{
 "cells": [
  {
   "cell_type": "markdown",
   "id": "3204dea9",
   "metadata": {},
   "source": [
    "# About Dataset\n",
    "\n",
    "Zomato is an Indian multinational restaurant aggregator and food delivery company founded by Deepinder Goyal and Pankaj Chaddah in 2008. Zomato provides information, menus and user-reviews of restaurants as well as food delivery options from partner restaurants in select cities\n",
    "\n",
    "* This dataset containing information of food restraunts in banglaore who are working with Zomato.The data was scraped from Zomato in two phase. After going through the structure of the website.\n",
    "\n",
    "\n",
    "* I found for each neighborhood there are 6-7 category of restaurants viz. Buffet, Cafes, Delivery, Desserts, Dine-out, Drinks & nightlife, Pubs and bars. So, here we are trying to find the best restaurants for customer depends on their need."
   ]
  },
  {
   "cell_type": "markdown",
   "id": "a089b94d",
   "metadata": {},
   "source": [
    "# My Findings\n",
    "\n",
    "1) How many restaurants accpeting online order for zomato? \n",
    "\n",
    "2) Find best location by seeing dataset. \n",
    "\n",
    "3) Find Types of restraunts and their count.\n",
    "\n",
    "4) Find count of restaurants have table boking facility.\n",
    "\n",
    "5) Find number of restaurant at given location.\n",
    "\n",
    "6) Find most famous restaurants chains(like Franchise(Rastaurants having more than one branch) in Bangalore.\n",
    "\n",
    "7) Find how many voters gives rating for each 'type' and aggregate rating of that 'type'.\n",
    "\n",
    "8) Gaussian Rest Type(Normal Distribution) of Rating.\n",
    "\n",
    "9) Find the how many Restaurants havign Chinese and North Indian food in their food type.\n",
    "\n",
    "10) Most famous restaurant chains in Bengaluru(No. of restaurants)\n",
    "\n",
    "11) Find the most profitable type of restaurant.\n"
   ]
  },
  {
   "cell_type": "markdown",
   "id": "5fcb9076",
   "metadata": {},
   "source": [
    "## Exploratory Analysis\n",
    "\n",
    "To begin this exploratory analysis, first to import libraries and define functions for plotting the data. Depending on the data, not all plots will be made."
   ]
  },
  {
   "cell_type": "markdown",
   "id": "7268a8fd",
   "metadata": {},
   "source": [
    "## Process of Data Cleaning\n",
    "First we are trying to clean our data for the better results."
   ]
  },
  {
   "cell_type": "markdown",
   "id": "027b08be",
   "metadata": {},
   "source": [
    "## Importing Libraries"
   ]
  },
  {
   "cell_type": "code",
   "execution_count": 1,
   "id": "fd546d74",
   "metadata": {},
   "outputs": [],
   "source": [
    "# This Python 3 environment comes with many helpful analytics libraries installed\n",
    "# For example, here's several helpful packages to load\n",
    "\n",
    "import numpy as np   # linear algebra\n",
    "import pandas as pd  # data processing, CSV file I/O (e.g. pd.read_csv)\n",
    "import re    # regex pattern matching\n",
    "import warnings\n",
    "warnings.filterwarnings('ignore') # Ignoring warnings\n"
   ]
  },
  {
   "cell_type": "markdown",
   "id": "732804ad",
   "metadata": {},
   "source": [
    "### Reading Dataset"
   ]
  },
  {
   "cell_type": "code",
   "execution_count": 2,
   "id": "6c96102c",
   "metadata": {},
   "outputs": [],
   "source": [
    "zmt = pd.read_csv(\"zomato.csv\")"
   ]
  },
  {
   "cell_type": "code",
   "execution_count": 3,
   "id": "1a31a12c",
   "metadata": {},
   "outputs": [
    {
     "data": {
      "text/html": [
       "<div>\n",
       "<style scoped>\n",
       "    .dataframe tbody tr th:only-of-type {\n",
       "        vertical-align: middle;\n",
       "    }\n",
       "\n",
       "    .dataframe tbody tr th {\n",
       "        vertical-align: top;\n",
       "    }\n",
       "\n",
       "    .dataframe thead th {\n",
       "        text-align: right;\n",
       "    }\n",
       "</style>\n",
       "<table border=\"1\" class=\"dataframe\">\n",
       "  <thead>\n",
       "    <tr style=\"text-align: right;\">\n",
       "      <th></th>\n",
       "      <th>url</th>\n",
       "      <th>address</th>\n",
       "      <th>name</th>\n",
       "      <th>online_order</th>\n",
       "      <th>book_table</th>\n",
       "      <th>rate</th>\n",
       "      <th>votes</th>\n",
       "      <th>phone</th>\n",
       "      <th>location</th>\n",
       "      <th>rest_type</th>\n",
       "      <th>dish_liked</th>\n",
       "      <th>cuisines</th>\n",
       "      <th>approx_cost(for two people)</th>\n",
       "      <th>reviews_list</th>\n",
       "      <th>menu_item</th>\n",
       "      <th>listed_in(type)</th>\n",
       "      <th>listed_in(city)</th>\n",
       "    </tr>\n",
       "  </thead>\n",
       "  <tbody>\n",
       "    <tr>\n",
       "      <th>0</th>\n",
       "      <td>https://www.zomato.com/bangalore/jalsa-banasha...</td>\n",
       "      <td>942, 21st Main Road, 2nd Stage, Banashankari, ...</td>\n",
       "      <td>Jalsa</td>\n",
       "      <td>Yes</td>\n",
       "      <td>Yes</td>\n",
       "      <td>4.1/5</td>\n",
       "      <td>775</td>\n",
       "      <td>080 42297555\\r\\n+91 9743772233</td>\n",
       "      <td>Banashankari</td>\n",
       "      <td>Casual Dining</td>\n",
       "      <td>Pasta, Lunch Buffet, Masala Papad, Paneer Laja...</td>\n",
       "      <td>North Indian, Mughlai, Chinese</td>\n",
       "      <td>800</td>\n",
       "      <td>[('Rated 4.0', 'RATED\\n  A beautiful place to ...</td>\n",
       "      <td>[]</td>\n",
       "      <td>Buffet</td>\n",
       "      <td>Banashankari</td>\n",
       "    </tr>\n",
       "    <tr>\n",
       "      <th>1</th>\n",
       "      <td>https://www.zomato.com/bangalore/spice-elephan...</td>\n",
       "      <td>2nd Floor, 80 Feet Road, Near Big Bazaar, 6th ...</td>\n",
       "      <td>Spice Elephant</td>\n",
       "      <td>Yes</td>\n",
       "      <td>No</td>\n",
       "      <td>4.1/5</td>\n",
       "      <td>787</td>\n",
       "      <td>080 41714161</td>\n",
       "      <td>Banashankari</td>\n",
       "      <td>Casual Dining</td>\n",
       "      <td>Momos, Lunch Buffet, Chocolate Nirvana, Thai G...</td>\n",
       "      <td>Chinese, North Indian, Thai</td>\n",
       "      <td>800</td>\n",
       "      <td>[('Rated 4.0', 'RATED\\n  Had been here for din...</td>\n",
       "      <td>[]</td>\n",
       "      <td>Buffet</td>\n",
       "      <td>Banashankari</td>\n",
       "    </tr>\n",
       "    <tr>\n",
       "      <th>2</th>\n",
       "      <td>https://www.zomato.com/SanchurroBangalore?cont...</td>\n",
       "      <td>1112, Next to KIMS Medical College, 17th Cross...</td>\n",
       "      <td>San Churro Cafe</td>\n",
       "      <td>Yes</td>\n",
       "      <td>No</td>\n",
       "      <td>3.8/5</td>\n",
       "      <td>918</td>\n",
       "      <td>+91 9663487993</td>\n",
       "      <td>Banashankari</td>\n",
       "      <td>Cafe, Casual Dining</td>\n",
       "      <td>Churros, Cannelloni, Minestrone Soup, Hot Choc...</td>\n",
       "      <td>Cafe, Mexican, Italian</td>\n",
       "      <td>800</td>\n",
       "      <td>[('Rated 3.0', \"RATED\\n  Ambience is not that ...</td>\n",
       "      <td>[]</td>\n",
       "      <td>Buffet</td>\n",
       "      <td>Banashankari</td>\n",
       "    </tr>\n",
       "    <tr>\n",
       "      <th>3</th>\n",
       "      <td>https://www.zomato.com/bangalore/addhuri-udupi...</td>\n",
       "      <td>1st Floor, Annakuteera, 3rd Stage, Banashankar...</td>\n",
       "      <td>Addhuri Udupi Bhojana</td>\n",
       "      <td>No</td>\n",
       "      <td>No</td>\n",
       "      <td>3.7/5</td>\n",
       "      <td>88</td>\n",
       "      <td>+91 9620009302</td>\n",
       "      <td>Banashankari</td>\n",
       "      <td>Quick Bites</td>\n",
       "      <td>Masala Dosa</td>\n",
       "      <td>South Indian, North Indian</td>\n",
       "      <td>300</td>\n",
       "      <td>[('Rated 4.0', \"RATED\\n  Great food and proper...</td>\n",
       "      <td>[]</td>\n",
       "      <td>Buffet</td>\n",
       "      <td>Banashankari</td>\n",
       "    </tr>\n",
       "    <tr>\n",
       "      <th>4</th>\n",
       "      <td>https://www.zomato.com/bangalore/grand-village...</td>\n",
       "      <td>10, 3rd Floor, Lakshmi Associates, Gandhi Baza...</td>\n",
       "      <td>Grand Village</td>\n",
       "      <td>No</td>\n",
       "      <td>No</td>\n",
       "      <td>3.8/5</td>\n",
       "      <td>166</td>\n",
       "      <td>+91 8026612447\\r\\n+91 9901210005</td>\n",
       "      <td>Basavanagudi</td>\n",
       "      <td>Casual Dining</td>\n",
       "      <td>Panipuri, Gol Gappe</td>\n",
       "      <td>North Indian, Rajasthani</td>\n",
       "      <td>600</td>\n",
       "      <td>[('Rated 4.0', 'RATED\\n  Very good restaurant ...</td>\n",
       "      <td>[]</td>\n",
       "      <td>Buffet</td>\n",
       "      <td>Banashankari</td>\n",
       "    </tr>\n",
       "  </tbody>\n",
       "</table>\n",
       "</div>"
      ],
      "text/plain": [
       "                                                 url  \\\n",
       "0  https://www.zomato.com/bangalore/jalsa-banasha...   \n",
       "1  https://www.zomato.com/bangalore/spice-elephan...   \n",
       "2  https://www.zomato.com/SanchurroBangalore?cont...   \n",
       "3  https://www.zomato.com/bangalore/addhuri-udupi...   \n",
       "4  https://www.zomato.com/bangalore/grand-village...   \n",
       "\n",
       "                                             address                   name  \\\n",
       "0  942, 21st Main Road, 2nd Stage, Banashankari, ...                  Jalsa   \n",
       "1  2nd Floor, 80 Feet Road, Near Big Bazaar, 6th ...         Spice Elephant   \n",
       "2  1112, Next to KIMS Medical College, 17th Cross...        San Churro Cafe   \n",
       "3  1st Floor, Annakuteera, 3rd Stage, Banashankar...  Addhuri Udupi Bhojana   \n",
       "4  10, 3rd Floor, Lakshmi Associates, Gandhi Baza...          Grand Village   \n",
       "\n",
       "  online_order book_table   rate  votes                             phone  \\\n",
       "0          Yes        Yes  4.1/5    775    080 42297555\\r\\n+91 9743772233   \n",
       "1          Yes         No  4.1/5    787                      080 41714161   \n",
       "2          Yes         No  3.8/5    918                    +91 9663487993   \n",
       "3           No         No  3.7/5     88                    +91 9620009302   \n",
       "4           No         No  3.8/5    166  +91 8026612447\\r\\n+91 9901210005   \n",
       "\n",
       "       location            rest_type  \\\n",
       "0  Banashankari        Casual Dining   \n",
       "1  Banashankari        Casual Dining   \n",
       "2  Banashankari  Cafe, Casual Dining   \n",
       "3  Banashankari          Quick Bites   \n",
       "4  Basavanagudi        Casual Dining   \n",
       "\n",
       "                                          dish_liked  \\\n",
       "0  Pasta, Lunch Buffet, Masala Papad, Paneer Laja...   \n",
       "1  Momos, Lunch Buffet, Chocolate Nirvana, Thai G...   \n",
       "2  Churros, Cannelloni, Minestrone Soup, Hot Choc...   \n",
       "3                                        Masala Dosa   \n",
       "4                                Panipuri, Gol Gappe   \n",
       "\n",
       "                         cuisines approx_cost(for two people)  \\\n",
       "0  North Indian, Mughlai, Chinese                         800   \n",
       "1     Chinese, North Indian, Thai                         800   \n",
       "2          Cafe, Mexican, Italian                         800   \n",
       "3      South Indian, North Indian                         300   \n",
       "4        North Indian, Rajasthani                         600   \n",
       "\n",
       "                                        reviews_list menu_item  \\\n",
       "0  [('Rated 4.0', 'RATED\\n  A beautiful place to ...        []   \n",
       "1  [('Rated 4.0', 'RATED\\n  Had been here for din...        []   \n",
       "2  [('Rated 3.0', \"RATED\\n  Ambience is not that ...        []   \n",
       "3  [('Rated 4.0', \"RATED\\n  Great food and proper...        []   \n",
       "4  [('Rated 4.0', 'RATED\\n  Very good restaurant ...        []   \n",
       "\n",
       "  listed_in(type) listed_in(city)  \n",
       "0          Buffet    Banashankari  \n",
       "1          Buffet    Banashankari  \n",
       "2          Buffet    Banashankari  \n",
       "3          Buffet    Banashankari  \n",
       "4          Buffet    Banashankari  "
      ]
     },
     "execution_count": 3,
     "metadata": {},
     "output_type": "execute_result"
    }
   ],
   "source": [
    "zmt.head()  # Reading 1st Five rows of our dataset using .head(). Reading bottom Five rows of our dataset using .tail()."
   ]
  },
  {
   "cell_type": "code",
   "execution_count": 4,
   "id": "68c5d2fe",
   "metadata": {},
   "outputs": [
    {
     "data": {
      "text/html": [
       "<div>\n",
       "<style scoped>\n",
       "    .dataframe tbody tr th:only-of-type {\n",
       "        vertical-align: middle;\n",
       "    }\n",
       "\n",
       "    .dataframe tbody tr th {\n",
       "        vertical-align: top;\n",
       "    }\n",
       "\n",
       "    .dataframe thead th {\n",
       "        text-align: right;\n",
       "    }\n",
       "</style>\n",
       "<table border=\"1\" class=\"dataframe\">\n",
       "  <thead>\n",
       "    <tr style=\"text-align: right;\">\n",
       "      <th></th>\n",
       "      <th>votes</th>\n",
       "    </tr>\n",
       "  </thead>\n",
       "  <tbody>\n",
       "    <tr>\n",
       "      <th>count</th>\n",
       "      <td>51717.000000</td>\n",
       "    </tr>\n",
       "    <tr>\n",
       "      <th>mean</th>\n",
       "      <td>283.697527</td>\n",
       "    </tr>\n",
       "    <tr>\n",
       "      <th>std</th>\n",
       "      <td>803.838853</td>\n",
       "    </tr>\n",
       "    <tr>\n",
       "      <th>min</th>\n",
       "      <td>0.000000</td>\n",
       "    </tr>\n",
       "    <tr>\n",
       "      <th>25%</th>\n",
       "      <td>7.000000</td>\n",
       "    </tr>\n",
       "    <tr>\n",
       "      <th>50%</th>\n",
       "      <td>41.000000</td>\n",
       "    </tr>\n",
       "    <tr>\n",
       "      <th>75%</th>\n",
       "      <td>198.000000</td>\n",
       "    </tr>\n",
       "    <tr>\n",
       "      <th>max</th>\n",
       "      <td>16832.000000</td>\n",
       "    </tr>\n",
       "  </tbody>\n",
       "</table>\n",
       "</div>"
      ],
      "text/plain": [
       "              votes\n",
       "count  51717.000000\n",
       "mean     283.697527\n",
       "std      803.838853\n",
       "min        0.000000\n",
       "25%        7.000000\n",
       "50%       41.000000\n",
       "75%      198.000000\n",
       "max    16832.000000"
      ]
     },
     "execution_count": 4,
     "metadata": {},
     "output_type": "execute_result"
    }
   ],
   "source": [
    "zmt.describe()"
   ]
  },
  {
   "cell_type": "code",
   "execution_count": 5,
   "id": "84c82fae",
   "metadata": {},
   "outputs": [
    {
     "data": {
      "text/plain": [
       "(51717, 17)"
      ]
     },
     "execution_count": 5,
     "metadata": {},
     "output_type": "execute_result"
    }
   ],
   "source": [
    "zmt.shape"
   ]
  },
  {
   "cell_type": "code",
   "execution_count": 6,
   "id": "77150af4",
   "metadata": {},
   "outputs": [
    {
     "name": "stdout",
     "output_type": "stream",
     "text": [
      "<class 'pandas.core.frame.DataFrame'>\n",
      "RangeIndex: 51717 entries, 0 to 51716\n",
      "Data columns (total 17 columns):\n",
      " #   Column                       Non-Null Count  Dtype \n",
      "---  ------                       --------------  ----- \n",
      " 0   url                          51717 non-null  object\n",
      " 1   address                      51717 non-null  object\n",
      " 2   name                         51717 non-null  object\n",
      " 3   online_order                 51717 non-null  object\n",
      " 4   book_table                   51717 non-null  object\n",
      " 5   rate                         43942 non-null  object\n",
      " 6   votes                        51717 non-null  int64 \n",
      " 7   phone                        50509 non-null  object\n",
      " 8   location                     51696 non-null  object\n",
      " 9   rest_type                    51490 non-null  object\n",
      " 10  dish_liked                   23639 non-null  object\n",
      " 11  cuisines                     51672 non-null  object\n",
      " 12  approx_cost(for two people)  51371 non-null  object\n",
      " 13  reviews_list                 51717 non-null  object\n",
      " 14  menu_item                    51717 non-null  object\n",
      " 15  listed_in(type)              51717 non-null  object\n",
      " 16  listed_in(city)              51717 non-null  object\n",
      "dtypes: int64(1), object(16)\n",
      "memory usage: 6.7+ MB\n"
     ]
    }
   ],
   "source": [
    "zmt.info() #checking information of our dataset"
   ]
  },
  {
   "cell_type": "markdown",
   "id": "25376cb1",
   "metadata": {},
   "source": [
    "Here we can see we are having 17 columns and some columns including NaN values and incorrect data_types.\n",
    "\n",
    "Ex: approx_cost(for two people) and phone column has integer values but having object data_type."
   ]
  },
  {
   "cell_type": "code",
   "execution_count": 7,
   "id": "6415ee55",
   "metadata": {},
   "outputs": [
    {
     "data": {
      "text/plain": [
       "url                                0\n",
       "address                            0\n",
       "name                               0\n",
       "online_order                       0\n",
       "book_table                         0\n",
       "rate                            7775\n",
       "votes                              0\n",
       "phone                           1208\n",
       "location                          21\n",
       "rest_type                        227\n",
       "dish_liked                     28078\n",
       "cuisines                          45\n",
       "approx_cost(for two people)      346\n",
       "reviews_list                       0\n",
       "menu_item                          0\n",
       "listed_in(type)                    0\n",
       "listed_in(city)                    0\n",
       "dtype: int64"
      ]
     },
     "execution_count": 7,
     "metadata": {},
     "output_type": "execute_result"
    }
   ],
   "source": [
    "zmt.isnull().sum()"
   ]
  },
  {
   "cell_type": "markdown",
   "id": "2cf3bb63",
   "metadata": {},
   "source": [
    "## Droping Unnecessary Columns\n",
    "\n",
    "Unnecessary columns are those columns which are not that useful for analysis.\n",
    "\n",
    "Ex: Phone_Number, we not able to predict anything using Phone numbers. So, we can drop that columns which we are not going to use."
   ]
  },
  {
   "cell_type": "code",
   "execution_count": 8,
   "id": "6597daaf",
   "metadata": {},
   "outputs": [],
   "source": [
    "zmt.drop(['url','reviews_list','menu_item','address','phone','dish_liked'],axis=1,inplace=True)"
   ]
  },
  {
   "cell_type": "code",
   "execution_count": 9,
   "id": "c174d165",
   "metadata": {},
   "outputs": [
    {
     "data": {
      "text/html": [
       "<div>\n",
       "<style scoped>\n",
       "    .dataframe tbody tr th:only-of-type {\n",
       "        vertical-align: middle;\n",
       "    }\n",
       "\n",
       "    .dataframe tbody tr th {\n",
       "        vertical-align: top;\n",
       "    }\n",
       "\n",
       "    .dataframe thead th {\n",
       "        text-align: right;\n",
       "    }\n",
       "</style>\n",
       "<table border=\"1\" class=\"dataframe\">\n",
       "  <thead>\n",
       "    <tr style=\"text-align: right;\">\n",
       "      <th></th>\n",
       "      <th>name</th>\n",
       "      <th>online_order</th>\n",
       "      <th>book_table</th>\n",
       "      <th>rate</th>\n",
       "      <th>votes</th>\n",
       "      <th>location</th>\n",
       "      <th>rest_type</th>\n",
       "      <th>cuisines</th>\n",
       "      <th>approx_cost(for two people)</th>\n",
       "      <th>listed_in(type)</th>\n",
       "      <th>listed_in(city)</th>\n",
       "    </tr>\n",
       "  </thead>\n",
       "  <tbody>\n",
       "    <tr>\n",
       "      <th>0</th>\n",
       "      <td>Jalsa</td>\n",
       "      <td>Yes</td>\n",
       "      <td>Yes</td>\n",
       "      <td>4.1/5</td>\n",
       "      <td>775</td>\n",
       "      <td>Banashankari</td>\n",
       "      <td>Casual Dining</td>\n",
       "      <td>North Indian, Mughlai, Chinese</td>\n",
       "      <td>800</td>\n",
       "      <td>Buffet</td>\n",
       "      <td>Banashankari</td>\n",
       "    </tr>\n",
       "    <tr>\n",
       "      <th>1</th>\n",
       "      <td>Spice Elephant</td>\n",
       "      <td>Yes</td>\n",
       "      <td>No</td>\n",
       "      <td>4.1/5</td>\n",
       "      <td>787</td>\n",
       "      <td>Banashankari</td>\n",
       "      <td>Casual Dining</td>\n",
       "      <td>Chinese, North Indian, Thai</td>\n",
       "      <td>800</td>\n",
       "      <td>Buffet</td>\n",
       "      <td>Banashankari</td>\n",
       "    </tr>\n",
       "    <tr>\n",
       "      <th>2</th>\n",
       "      <td>San Churro Cafe</td>\n",
       "      <td>Yes</td>\n",
       "      <td>No</td>\n",
       "      <td>3.8/5</td>\n",
       "      <td>918</td>\n",
       "      <td>Banashankari</td>\n",
       "      <td>Cafe, Casual Dining</td>\n",
       "      <td>Cafe, Mexican, Italian</td>\n",
       "      <td>800</td>\n",
       "      <td>Buffet</td>\n",
       "      <td>Banashankari</td>\n",
       "    </tr>\n",
       "  </tbody>\n",
       "</table>\n",
       "</div>"
      ],
      "text/plain": [
       "              name online_order book_table   rate  votes      location  \\\n",
       "0            Jalsa          Yes        Yes  4.1/5    775  Banashankari   \n",
       "1   Spice Elephant          Yes         No  4.1/5    787  Banashankari   \n",
       "2  San Churro Cafe          Yes         No  3.8/5    918  Banashankari   \n",
       "\n",
       "             rest_type                        cuisines  \\\n",
       "0        Casual Dining  North Indian, Mughlai, Chinese   \n",
       "1        Casual Dining     Chinese, North Indian, Thai   \n",
       "2  Cafe, Casual Dining          Cafe, Mexican, Italian   \n",
       "\n",
       "  approx_cost(for two people) listed_in(type) listed_in(city)  \n",
       "0                         800          Buffet    Banashankari  \n",
       "1                         800          Buffet    Banashankari  \n",
       "2                         800          Buffet    Banashankari  "
      ]
     },
     "execution_count": 9,
     "metadata": {},
     "output_type": "execute_result"
    }
   ],
   "source": [
    "zmt.head(3)"
   ]
  },
  {
   "cell_type": "markdown",
   "id": "041e41b5",
   "metadata": {},
   "source": [
    "### Renaming Columns\n",
    "We are renaming the columns for better readability."
   ]
  },
  {
   "cell_type": "code",
   "execution_count": 10,
   "id": "b12c4fc3",
   "metadata": {},
   "outputs": [],
   "source": [
    "zmt.rename(columns={'name':'restaurants','rate':'rating','cuisines':'food_type','listed_in(type)':'type','listed_in(city)':'city','approx_cost(for two people)':'cost'},inplace=True)"
   ]
  },
  {
   "cell_type": "code",
   "execution_count": 11,
   "id": "fd30fbdc",
   "metadata": {},
   "outputs": [
    {
     "data": {
      "text/html": [
       "<div>\n",
       "<style scoped>\n",
       "    .dataframe tbody tr th:only-of-type {\n",
       "        vertical-align: middle;\n",
       "    }\n",
       "\n",
       "    .dataframe tbody tr th {\n",
       "        vertical-align: top;\n",
       "    }\n",
       "\n",
       "    .dataframe thead th {\n",
       "        text-align: right;\n",
       "    }\n",
       "</style>\n",
       "<table border=\"1\" class=\"dataframe\">\n",
       "  <thead>\n",
       "    <tr style=\"text-align: right;\">\n",
       "      <th></th>\n",
       "      <th>restaurants</th>\n",
       "      <th>online_order</th>\n",
       "      <th>book_table</th>\n",
       "      <th>rating</th>\n",
       "      <th>votes</th>\n",
       "      <th>location</th>\n",
       "      <th>rest_type</th>\n",
       "      <th>food_type</th>\n",
       "      <th>cost</th>\n",
       "      <th>type</th>\n",
       "      <th>city</th>\n",
       "    </tr>\n",
       "  </thead>\n",
       "  <tbody>\n",
       "    <tr>\n",
       "      <th>0</th>\n",
       "      <td>Jalsa</td>\n",
       "      <td>Yes</td>\n",
       "      <td>Yes</td>\n",
       "      <td>4.1/5</td>\n",
       "      <td>775</td>\n",
       "      <td>Banashankari</td>\n",
       "      <td>Casual Dining</td>\n",
       "      <td>North Indian, Mughlai, Chinese</td>\n",
       "      <td>800</td>\n",
       "      <td>Buffet</td>\n",
       "      <td>Banashankari</td>\n",
       "    </tr>\n",
       "    <tr>\n",
       "      <th>1</th>\n",
       "      <td>Spice Elephant</td>\n",
       "      <td>Yes</td>\n",
       "      <td>No</td>\n",
       "      <td>4.1/5</td>\n",
       "      <td>787</td>\n",
       "      <td>Banashankari</td>\n",
       "      <td>Casual Dining</td>\n",
       "      <td>Chinese, North Indian, Thai</td>\n",
       "      <td>800</td>\n",
       "      <td>Buffet</td>\n",
       "      <td>Banashankari</td>\n",
       "    </tr>\n",
       "    <tr>\n",
       "      <th>2</th>\n",
       "      <td>San Churro Cafe</td>\n",
       "      <td>Yes</td>\n",
       "      <td>No</td>\n",
       "      <td>3.8/5</td>\n",
       "      <td>918</td>\n",
       "      <td>Banashankari</td>\n",
       "      <td>Cafe, Casual Dining</td>\n",
       "      <td>Cafe, Mexican, Italian</td>\n",
       "      <td>800</td>\n",
       "      <td>Buffet</td>\n",
       "      <td>Banashankari</td>\n",
       "    </tr>\n",
       "  </tbody>\n",
       "</table>\n",
       "</div>"
      ],
      "text/plain": [
       "       restaurants online_order book_table rating  votes      location  \\\n",
       "0            Jalsa          Yes        Yes  4.1/5    775  Banashankari   \n",
       "1   Spice Elephant          Yes         No  4.1/5    787  Banashankari   \n",
       "2  San Churro Cafe          Yes         No  3.8/5    918  Banashankari   \n",
       "\n",
       "             rest_type                       food_type cost    type  \\\n",
       "0        Casual Dining  North Indian, Mughlai, Chinese  800  Buffet   \n",
       "1        Casual Dining     Chinese, North Indian, Thai  800  Buffet   \n",
       "2  Cafe, Casual Dining          Cafe, Mexican, Italian  800  Buffet   \n",
       "\n",
       "           city  \n",
       "0  Banashankari  \n",
       "1  Banashankari  \n",
       "2  Banashankari  "
      ]
     },
     "execution_count": 11,
     "metadata": {},
     "output_type": "execute_result"
    }
   ],
   "source": [
    "zmt.head(3)"
   ]
  },
  {
   "cell_type": "markdown",
   "id": "e5d864a1",
   "metadata": {},
   "source": [
    "### Droping NaN values¶\n",
    "\n",
    "Droping NaN values for better result using dropna()"
   ]
  },
  {
   "cell_type": "code",
   "execution_count": 12,
   "id": "5f82d0e2",
   "metadata": {},
   "outputs": [],
   "source": [
    "zmt.dropna(inplace = True) "
   ]
  },
  {
   "cell_type": "code",
   "execution_count": 13,
   "id": "0dceb4f7",
   "metadata": {},
   "outputs": [
    {
     "data": {
      "text/plain": [
       "False"
      ]
     },
     "execution_count": 13,
     "metadata": {},
     "output_type": "execute_result"
    }
   ],
   "source": [
    "zmt.isnull().values.any()"
   ]
  },
  {
   "cell_type": "code",
   "execution_count": 14,
   "id": "6e90e604",
   "metadata": {},
   "outputs": [
    {
     "data": {
      "text/plain": [
       "(43533, 11)"
      ]
     },
     "execution_count": 14,
     "metadata": {},
     "output_type": "execute_result"
    }
   ],
   "source": [
    "zmt.shape"
   ]
  },
  {
   "cell_type": "code",
   "execution_count": 15,
   "id": "ffd03abd",
   "metadata": {},
   "outputs": [
    {
     "name": "stdout",
     "output_type": "stream",
     "text": [
      "<class 'pandas.core.frame.DataFrame'>\n",
      "Int64Index: 43533 entries, 0 to 51716\n",
      "Data columns (total 11 columns):\n",
      " #   Column        Non-Null Count  Dtype \n",
      "---  ------        --------------  ----- \n",
      " 0   restaurants   43533 non-null  object\n",
      " 1   online_order  43533 non-null  object\n",
      " 2   book_table    43533 non-null  object\n",
      " 3   rating        43533 non-null  object\n",
      " 4   votes         43533 non-null  int64 \n",
      " 5   location      43533 non-null  object\n",
      " 6   rest_type     43533 non-null  object\n",
      " 7   food_type     43533 non-null  object\n",
      " 8   cost          43533 non-null  object\n",
      " 9   type          43533 non-null  object\n",
      " 10  city          43533 non-null  object\n",
      "dtypes: int64(1), object(10)\n",
      "memory usage: 4.0+ MB\n"
     ]
    }
   ],
   "source": [
    "zmt.info()"
   ]
  },
  {
   "cell_type": "markdown",
   "id": "6338ebb9",
   "metadata": {},
   "source": [
    "## Cleaning Individual Columns\n",
    "\n",
    "#### Column : 'restaurants'\n",
    "Column contains Restaurant Names"
   ]
  },
  {
   "cell_type": "code",
   "execution_count": 16,
   "id": "49a024f5",
   "metadata": {},
   "outputs": [
    {
     "data": {
      "text/html": [
       "<div>\n",
       "<style scoped>\n",
       "    .dataframe tbody tr th:only-of-type {\n",
       "        vertical-align: middle;\n",
       "    }\n",
       "\n",
       "    .dataframe tbody tr th {\n",
       "        vertical-align: top;\n",
       "    }\n",
       "\n",
       "    .dataframe thead th {\n",
       "        text-align: right;\n",
       "    }\n",
       "</style>\n",
       "<table border=\"1\" class=\"dataframe\">\n",
       "  <thead>\n",
       "    <tr style=\"text-align: right;\">\n",
       "      <th></th>\n",
       "      <th>online_order</th>\n",
       "      <th>book_table</th>\n",
       "      <th>rating</th>\n",
       "      <th>votes</th>\n",
       "      <th>location</th>\n",
       "      <th>rest_type</th>\n",
       "      <th>food_type</th>\n",
       "      <th>cost</th>\n",
       "      <th>type</th>\n",
       "      <th>city</th>\n",
       "    </tr>\n",
       "    <tr>\n",
       "      <th>restaurants</th>\n",
       "      <th></th>\n",
       "      <th></th>\n",
       "      <th></th>\n",
       "      <th></th>\n",
       "      <th></th>\n",
       "      <th></th>\n",
       "      <th></th>\n",
       "      <th></th>\n",
       "      <th></th>\n",
       "      <th></th>\n",
       "    </tr>\n",
       "  </thead>\n",
       "  <tbody>\n",
       "    <tr>\n",
       "      <th>#FeelTheROLL</th>\n",
       "      <td>2</td>\n",
       "      <td>2</td>\n",
       "      <td>2</td>\n",
       "      <td>2</td>\n",
       "      <td>2</td>\n",
       "      <td>2</td>\n",
       "      <td>2</td>\n",
       "      <td>2</td>\n",
       "      <td>2</td>\n",
       "      <td>2</td>\n",
       "    </tr>\n",
       "    <tr>\n",
       "      <th>#L-81 Cafe</th>\n",
       "      <td>9</td>\n",
       "      <td>9</td>\n",
       "      <td>9</td>\n",
       "      <td>9</td>\n",
       "      <td>9</td>\n",
       "      <td>9</td>\n",
       "      <td>9</td>\n",
       "      <td>9</td>\n",
       "      <td>9</td>\n",
       "      <td>9</td>\n",
       "    </tr>\n",
       "    <tr>\n",
       "      <th>#refuel</th>\n",
       "      <td>3</td>\n",
       "      <td>3</td>\n",
       "      <td>3</td>\n",
       "      <td>3</td>\n",
       "      <td>3</td>\n",
       "      <td>3</td>\n",
       "      <td>3</td>\n",
       "      <td>3</td>\n",
       "      <td>3</td>\n",
       "      <td>3</td>\n",
       "    </tr>\n",
       "    <tr>\n",
       "      <th>1000 B.C</th>\n",
       "      <td>6</td>\n",
       "      <td>6</td>\n",
       "      <td>6</td>\n",
       "      <td>6</td>\n",
       "      <td>6</td>\n",
       "      <td>6</td>\n",
       "      <td>6</td>\n",
       "      <td>6</td>\n",
       "      <td>6</td>\n",
       "      <td>6</td>\n",
       "    </tr>\n",
       "    <tr>\n",
       "      <th>100ÃÂÃÂÃÂÃÂÃÂÃÂÃÂÃÂ°C</th>\n",
       "      <td>3</td>\n",
       "      <td>3</td>\n",
       "      <td>3</td>\n",
       "      <td>3</td>\n",
       "      <td>3</td>\n",
       "      <td>3</td>\n",
       "      <td>3</td>\n",
       "      <td>3</td>\n",
       "      <td>3</td>\n",
       "      <td>3</td>\n",
       "    </tr>\n",
       "  </tbody>\n",
       "</table>\n",
       "</div>"
      ],
      "text/plain": [
       "                                      online_order  book_table  rating  votes  \\\n",
       "restaurants                                                                     \n",
       "#FeelTheROLL                                     2           2       2      2   \n",
       "#L-81 Cafe                                       9           9       9      9   \n",
       "#refuel                                          3           3       3      3   \n",
       "1000 B.C                                         6           6       6      6   \n",
       "100ÃÂÃÂÃÂÃÂÃÂÃÂÃÂÃÂ°C             3           3       3      3   \n",
       "\n",
       "                                      location  rest_type  food_type  cost  \\\n",
       "restaurants                                                                  \n",
       "#FeelTheROLL                                 2          2          2     2   \n",
       "#L-81 Cafe                                   9          9          9     9   \n",
       "#refuel                                      3          3          3     3   \n",
       "1000 B.C                                     6          6          6     6   \n",
       "100ÃÂÃÂÃÂÃÂÃÂÃÂÃÂÃÂ°C         3          3          3     3   \n",
       "\n",
       "                                      type  city  \n",
       "restaurants                                       \n",
       "#FeelTheROLL                             2     2  \n",
       "#L-81 Cafe                               9     9  \n",
       "#refuel                                  3     3  \n",
       "1000 B.C                                 6     6  \n",
       "100ÃÂÃÂÃÂÃÂÃÂÃÂÃÂÃÂ°C     3     3  "
      ]
     },
     "execution_count": 16,
     "metadata": {},
     "output_type": "execute_result"
    }
   ],
   "source": [
    "zmt.groupby('restaurants').count().head() # we are grouping the restaurants to see the restaurant names and their count."
   ]
  },
  {
   "cell_type": "markdown",
   "id": "2528ac33",
   "metadata": {},
   "source": [
    "Here we can see we are got restaurant names having disturbed characters\n",
    "\n",
    "so we need to remove that characters from the name using pattern matcing to get orignal names."
   ]
  },
  {
   "cell_type": "code",
   "execution_count": 17,
   "id": "29c574a6",
   "metadata": {},
   "outputs": [],
   "source": [
    "# '[Ãx][^A-Za-z]+' pattern I got to find disturbed characters using regex. And Replacing those charachters with empty space.\n",
    "\n",
    "zmt['restaurants']=zmt['restaurants'].str.replace('[Ãx][^A-Za-z]+',' ',regex=True)"
   ]
  },
  {
   "cell_type": "code",
   "execution_count": 18,
   "id": "8fa92d18",
   "metadata": {},
   "outputs": [
    {
     "data": {
      "text/html": [
       "<div>\n",
       "<style scoped>\n",
       "    .dataframe tbody tr th:only-of-type {\n",
       "        vertical-align: middle;\n",
       "    }\n",
       "\n",
       "    .dataframe tbody tr th {\n",
       "        vertical-align: top;\n",
       "    }\n",
       "\n",
       "    .dataframe thead th {\n",
       "        text-align: right;\n",
       "    }\n",
       "</style>\n",
       "<table border=\"1\" class=\"dataframe\">\n",
       "  <thead>\n",
       "    <tr style=\"text-align: right;\">\n",
       "      <th></th>\n",
       "      <th>online_order</th>\n",
       "      <th>book_table</th>\n",
       "      <th>rating</th>\n",
       "      <th>votes</th>\n",
       "      <th>location</th>\n",
       "      <th>rest_type</th>\n",
       "      <th>food_type</th>\n",
       "      <th>cost</th>\n",
       "      <th>type</th>\n",
       "      <th>city</th>\n",
       "    </tr>\n",
       "    <tr>\n",
       "      <th>restaurants</th>\n",
       "      <th></th>\n",
       "      <th></th>\n",
       "      <th></th>\n",
       "      <th></th>\n",
       "      <th></th>\n",
       "      <th></th>\n",
       "      <th></th>\n",
       "      <th></th>\n",
       "      <th></th>\n",
       "      <th></th>\n",
       "    </tr>\n",
       "  </thead>\n",
       "  <tbody>\n",
       "    <tr>\n",
       "      <th>#FeelTheROLL</th>\n",
       "      <td>2</td>\n",
       "      <td>2</td>\n",
       "      <td>2</td>\n",
       "      <td>2</td>\n",
       "      <td>2</td>\n",
       "      <td>2</td>\n",
       "      <td>2</td>\n",
       "      <td>2</td>\n",
       "      <td>2</td>\n",
       "      <td>2</td>\n",
       "    </tr>\n",
       "    <tr>\n",
       "      <th>#L-81 Cafe</th>\n",
       "      <td>9</td>\n",
       "      <td>9</td>\n",
       "      <td>9</td>\n",
       "      <td>9</td>\n",
       "      <td>9</td>\n",
       "      <td>9</td>\n",
       "      <td>9</td>\n",
       "      <td>9</td>\n",
       "      <td>9</td>\n",
       "      <td>9</td>\n",
       "    </tr>\n",
       "    <tr>\n",
       "      <th>#refuel</th>\n",
       "      <td>3</td>\n",
       "      <td>3</td>\n",
       "      <td>3</td>\n",
       "      <td>3</td>\n",
       "      <td>3</td>\n",
       "      <td>3</td>\n",
       "      <td>3</td>\n",
       "      <td>3</td>\n",
       "      <td>3</td>\n",
       "      <td>3</td>\n",
       "    </tr>\n",
       "    <tr>\n",
       "      <th>100 C</th>\n",
       "      <td>3</td>\n",
       "      <td>3</td>\n",
       "      <td>3</td>\n",
       "      <td>3</td>\n",
       "      <td>3</td>\n",
       "      <td>3</td>\n",
       "      <td>3</td>\n",
       "      <td>3</td>\n",
       "      <td>3</td>\n",
       "      <td>3</td>\n",
       "    </tr>\n",
       "    <tr>\n",
       "      <th>1000 B.C</th>\n",
       "      <td>6</td>\n",
       "      <td>6</td>\n",
       "      <td>6</td>\n",
       "      <td>6</td>\n",
       "      <td>6</td>\n",
       "      <td>6</td>\n",
       "      <td>6</td>\n",
       "      <td>6</td>\n",
       "      <td>6</td>\n",
       "      <td>6</td>\n",
       "    </tr>\n",
       "  </tbody>\n",
       "</table>\n",
       "</div>"
      ],
      "text/plain": [
       "              online_order  book_table  rating  votes  location  rest_type  \\\n",
       "restaurants                                                                  \n",
       "#FeelTheROLL             2           2       2      2         2          2   \n",
       "#L-81 Cafe               9           9       9      9         9          9   \n",
       "#refuel                  3           3       3      3         3          3   \n",
       "100 C                    3           3       3      3         3          3   \n",
       "1000 B.C                 6           6       6      6         6          6   \n",
       "\n",
       "              food_type  cost  type  city  \n",
       "restaurants                                \n",
       "#FeelTheROLL          2     2     2     2  \n",
       "#L-81 Cafe            9     9     9     9  \n",
       "#refuel               3     3     3     3  \n",
       "100 C                 3     3     3     3  \n",
       "1000 B.C              6     6     6     6  "
      ]
     },
     "execution_count": 18,
     "metadata": {},
     "output_type": "execute_result"
    }
   ],
   "source": [
    "zmt.groupby('restaurants').count().head()"
   ]
  },
  {
   "cell_type": "markdown",
   "id": "272d4acc",
   "metadata": {},
   "source": [
    "Here see we successfully removed the disturbed characters from restaurant name(refer 5th row to see transformation)\n",
    "\n",
    "By reading the databse I found the names having incorrect spell. Let me correct them as well."
   ]
  },
  {
   "cell_type": "code",
   "execution_count": 19,
   "id": "81838b2f",
   "metadata": {},
   "outputs": [],
   "source": [
    "zmt['restaurants']=zmt['restaurants'].str.replace('Caf-|Caf ','Cafe',regex=True) \n",
    "# replacing the Caf- or Caf names with cafe using pattern matching"
   ]
  },
  {
   "cell_type": "markdown",
   "id": "fc14d067",
   "metadata": {},
   "source": [
    "#### Column: 'online_order'\n",
    "\n",
    "Column shows that restaurants accepting online orders or not."
   ]
  },
  {
   "cell_type": "code",
   "execution_count": 20,
   "id": "12354785",
   "metadata": {},
   "outputs": [
    {
     "data": {
      "text/plain": [
       "array(['Yes', 'No'], dtype=object)"
      ]
     },
     "execution_count": 20,
     "metadata": {},
     "output_type": "execute_result"
    }
   ],
   "source": [
    "zmt['online_order'].unique() # Using .unique() we can find the unique values from column"
   ]
  },
  {
   "cell_type": "markdown",
   "id": "116eabc3",
   "metadata": {},
   "source": [
    "Here, we can see only Yes and No values are present so there is no need to clean the column."
   ]
  },
  {
   "cell_type": "markdown",
   "id": "3d747f83",
   "metadata": {},
   "source": [
    "#### Column: 'book_table'\n",
    "Column shows that restaurants having table booking facility or not."
   ]
  },
  {
   "cell_type": "code",
   "execution_count": 21,
   "id": "709feebc",
   "metadata": {},
   "outputs": [
    {
     "data": {
      "text/plain": [
       "array(['Yes', 'No'], dtype=object)"
      ]
     },
     "execution_count": 21,
     "metadata": {},
     "output_type": "execute_result"
    }
   ],
   "source": [
    "zmt['book_table'].unique()"
   ]
  },
  {
   "cell_type": "markdown",
   "id": "d3a721ee",
   "metadata": {},
   "source": [
    "Here also we got the same result so no need to perform any cleaning"
   ]
  },
  {
   "cell_type": "markdown",
   "id": "b5cefe8e",
   "metadata": {},
   "source": [
    "#### Column: 'rating'\n",
    "Column shows the rating of the hotel out of 5"
   ]
  },
  {
   "cell_type": "code",
   "execution_count": 22,
   "id": "8f7e642e",
   "metadata": {},
   "outputs": [
    {
     "data": {
      "text/plain": [
       "array(['4.1/5', '3.8/5', '3.7/5', '3.6/5', '4.6/5', '4.0/5', '4.2/5',\n",
       "       '3.9/5', '3.1/5', '3.0/5', '3.2/5', '3.3/5', '2.8/5', '4.4/5',\n",
       "       '4.3/5', 'NEW', '2.9/5', '3.5/5', '2.6/5', '3.8 /5', '3.4/5',\n",
       "       '4.5/5', '2.5/5', '2.7/5', '4.7/5', '2.4/5', '2.2/5', '2.3/5',\n",
       "       '3.4 /5', '-', '3.6 /5', '4.8/5', '3.9 /5', '4.2 /5', '4.0 /5',\n",
       "       '4.1 /5', '3.7 /5', '3.1 /5', '2.9 /5', '3.3 /5', '2.8 /5',\n",
       "       '3.5 /5', '2.7 /5', '2.5 /5', '3.2 /5', '2.6 /5', '4.5 /5',\n",
       "       '4.3 /5', '4.4 /5', '4.9/5', '2.1/5', '2.0/5', '1.8/5', '4.6 /5',\n",
       "       '4.9 /5', '3.0 /5', '4.8 /5', '2.3 /5', '4.7 /5', '2.4 /5',\n",
       "       '2.1 /5', '2.2 /5', '2.0 /5', '1.8 /5'], dtype=object)"
      ]
     },
     "execution_count": 22,
     "metadata": {},
     "output_type": "execute_result"
    }
   ],
   "source": [
    "zmt['rating'].unique()"
   ]
  },
  {
   "cell_type": "markdown",
   "id": "793ff37b",
   "metadata": {},
   "source": [
    "Here, we can see rating column having string values and having object datatype including 'NEW' and '-' values. we know that rating is always out of 5 and in decimal format. So, we need to clean our 'rating' columns.\n",
    "\n",
    "Need changes:\n",
    "\n",
    "* Remove 'NEW' and '-' values.\n",
    "\n",
    "* Remove '/5' from the rating.\n",
    "\n",
    "* Covert datatype object to float (float_datatype has decimal values).\n",
    "\n",
    "Try to do all changes in one block of code"
   ]
  },
  {
   "cell_type": "code",
   "execution_count": 23,
   "id": "1ef11f4c",
   "metadata": {},
   "outputs": [
    {
     "data": {
      "text/plain": [
       "(array([4.1, 3.8, 3.7, 3.6, 4.6, 4. , 4.2, 3.9, 3.1, 3. , 3.2, 3.3, 2.8,\n",
       "        4.4, 4.3, nan, 2.9, 3.5, 2.6, 3.4, 4.5, 2.5, 2.7, 4.7, 2.4, 2.2,\n",
       "        2.3, 4.8, 4.9, 2.1, 2. , 1.8]),\n",
       " dtype('float64'))"
      ]
     },
     "execution_count": 23,
     "metadata": {},
     "output_type": "execute_result"
    }
   ],
   "source": [
    "def rate(value):\n",
    "    if value=='NEW' or value=='-':\n",
    "        return np.nan\n",
    "    else:\n",
    "        value=value.split('/')\n",
    "        value=value[0]\n",
    "        return float(value)\n",
    "    \n",
    "zmt['rating']=zmt['rating'].apply(rate)\n",
    "# zmt[\"rating\"].head()\n",
    "zmt['rating'].unique(),zmt['rating'].dtype"
   ]
  },
  {
   "cell_type": "markdown",
   "id": "68e5bef3",
   "metadata": {},
   "source": [
    "See we got the cleaned values with float datatype."
   ]
  },
  {
   "cell_type": "code",
   "execution_count": 24,
   "id": "38035af7",
   "metadata": {},
   "outputs": [
    {
     "data": {
      "text/plain": [
       "False    41263\n",
       "True      2270\n",
       "Name: rating, dtype: int64"
      ]
     },
     "execution_count": 24,
     "metadata": {},
     "output_type": "execute_result"
    }
   ],
   "source": [
    "#Counting the NaN valuesn in rating column\n",
    "zmt['rating'].isnull().value_counts()"
   ]
  },
  {
   "cell_type": "code",
   "execution_count": 25,
   "id": "3279471c",
   "metadata": {},
   "outputs": [
    {
     "data": {
      "text/plain": [
       "0"
      ]
     },
     "execution_count": 25,
     "metadata": {},
     "output_type": "execute_result"
    }
   ],
   "source": [
    "zmt['rating'].fillna(zmt['rating'].mean(),inplace=True)\n",
    "zmt['rating'].isnull().sum()"
   ]
  },
  {
   "cell_type": "code",
   "execution_count": 26,
   "id": "b05d9ac4",
   "metadata": {},
   "outputs": [
    {
     "data": {
      "text/plain": [
       "False    43533\n",
       "Name: rating, dtype: int64"
      ]
     },
     "execution_count": 26,
     "metadata": {},
     "output_type": "execute_result"
    }
   ],
   "source": [
    "zmt['rating'].isnull().value_counts()"
   ]
  },
  {
   "cell_type": "markdown",
   "id": "734886bf",
   "metadata": {},
   "source": [
    "#### Column: 'votes'\n",
    "Column contains number of votes hotel got."
   ]
  },
  {
   "cell_type": "code",
   "execution_count": 27,
   "id": "79046475",
   "metadata": {},
   "outputs": [
    {
     "data": {
      "text/plain": [
       "False    43533\n",
       "Name: votes, dtype: int64"
      ]
     },
     "execution_count": 27,
     "metadata": {},
     "output_type": "execute_result"
    }
   ],
   "source": [
    "zmt['votes'].isnull().value_counts() # checking column having null values or not using .isnull()"
   ]
  },
  {
   "cell_type": "markdown",
   "id": "874e37f7",
   "metadata": {},
   "source": [
    "Here, we can see there is no null values and having correct datatype. So, no need to clean anything."
   ]
  },
  {
   "cell_type": "markdown",
   "id": "4791445d",
   "metadata": {},
   "source": [
    "#### Column: 'location'\n",
    "Column contains locations of restaurants."
   ]
  },
  {
   "cell_type": "code",
   "execution_count": 28,
   "id": "a4a12cd6",
   "metadata": {},
   "outputs": [
    {
     "data": {
      "text/plain": [
       "array(['Banashankari', 'Basavanagudi', 'Mysore Road', 'Jayanagar',\n",
       "       'Kumaraswamy Layout', 'Rajarajeshwari Nagar', 'Vijay Nagar',\n",
       "       'Uttarahalli', 'JP Nagar', 'South Bangalore', 'City Market',\n",
       "       'Bannerghatta Road', 'BTM', 'Kanakapura Road', 'Bommanahalli',\n",
       "       'CV Raman Nagar', 'Electronic City', 'Wilson Garden',\n",
       "       'Shanti Nagar', 'Koramangala 5th Block', 'Richmond Road', 'HSR',\n",
       "       'Marathahalli', 'Koramangala 7th Block', 'Bellandur',\n",
       "       'Sarjapur Road', 'Whitefield', 'East Bangalore',\n",
       "       'Old Airport Road', 'Indiranagar', 'Koramangala 1st Block',\n",
       "       'Frazer Town', 'MG Road', 'Brigade Road', 'Lavelle Road',\n",
       "       'Church Street', 'Ulsoor', 'Residency Road', 'Shivajinagar',\n",
       "       'Infantry Road', 'St. Marks Road', 'Cunningham Road',\n",
       "       'Race Course Road', 'Commercial Street', 'Vasanth Nagar', 'Domlur',\n",
       "       'Koramangala 8th Block', 'Ejipura', 'Jeevan Bhima Nagar',\n",
       "       'Old Madras Road', 'Seshadripuram', 'Kammanahalli',\n",
       "       'Koramangala 6th Block', 'Majestic', 'Langford Town',\n",
       "       'Central Bangalore', 'Sanjay Nagar', 'Brookefield',\n",
       "       'ITPL Main Road, Whitefield', 'Varthur Main Road, Whitefield',\n",
       "       'Koramangala 2nd Block', 'Koramangala 3rd Block',\n",
       "       'Koramangala 4th Block', 'Koramangala', 'Hosur Road',\n",
       "       'Rajajinagar', 'RT Nagar', 'Banaswadi', 'North Bangalore',\n",
       "       'Nagawara', 'Hennur', 'Kalyan Nagar', 'HBR Layout',\n",
       "       'Rammurthy Nagar', 'Thippasandra', 'Kaggadasapura', 'Hebbal',\n",
       "       'Kengeri', 'New BEL Road', 'Sankey Road', 'Malleshwaram',\n",
       "       'Sadashiv Nagar', 'Basaveshwara Nagar', 'Yeshwantpur',\n",
       "       'West Bangalore', 'Magadi Road', 'Yelahanka', 'Sahakara Nagar',\n",
       "       'Jalahalli', 'Nagarbhavi', 'Peenya', 'KR Puram'], dtype=object)"
      ]
     },
     "execution_count": 28,
     "metadata": {},
     "output_type": "execute_result"
    }
   ],
   "source": [
    "zmt.location.unique() # This syntax is works similer like previous so don't be confuse."
   ]
  },
  {
   "cell_type": "markdown",
   "id": "81523f14",
   "metadata": {},
   "source": [
    "Here, aslo all things are correct so no need to perform data cleaning"
   ]
  },
  {
   "cell_type": "markdown",
   "id": "8c697fa5",
   "metadata": {},
   "source": [
    "#### Column: 'rest_type' and 'food_type'\n",
    "Columns shows that the restaurant types and which type of food restaurants have."
   ]
  },
  {
   "cell_type": "code",
   "execution_count": 29,
   "id": "54121132",
   "metadata": {},
   "outputs": [
    {
     "data": {
      "text/plain": [
       "(array(['Casual Dining', 'Cafe, Casual Dining', 'Quick Bites',\n",
       "        'Casual Dining, Cafe', 'Cafe', 'Quick Bites, Cafe',\n",
       "        'Cafe, Quick Bites', 'Delivery', 'Mess', 'Dessert Parlor',\n",
       "        'Bakery, Dessert Parlor', 'Pub', 'Bakery', 'Takeaway, Delivery',\n",
       "        'Fine Dining', 'Beverage Shop', 'Sweet Shop', 'Bar',\n",
       "        'Dessert Parlor, Sweet Shop', 'Bakery, Quick Bites',\n",
       "        'Sweet Shop, Quick Bites', 'Kiosk', 'Food Truck',\n",
       "        'Quick Bites, Dessert Parlor', 'Beverage Shop, Quick Bites',\n",
       "        'Beverage Shop, Dessert Parlor', 'Takeaway', 'Pub, Casual Dining',\n",
       "        'Casual Dining, Bar', 'Dessert Parlor, Beverage Shop',\n",
       "        'Quick Bites, Bakery', 'Microbrewery, Casual Dining', 'Lounge',\n",
       "        'Bar, Casual Dining', 'Food Court', 'Cafe, Bakery', 'Dhaba',\n",
       "        'Quick Bites, Sweet Shop', 'Microbrewery',\n",
       "        'Food Court, Quick Bites', 'Quick Bites, Beverage Shop',\n",
       "        'Pub, Bar', 'Casual Dining, Pub', 'Lounge, Bar',\n",
       "        'Dessert Parlor, Quick Bites', 'Food Court, Dessert Parlor',\n",
       "        'Casual Dining, Sweet Shop', 'Food Court, Casual Dining',\n",
       "        'Casual Dining, Microbrewery', 'Lounge, Casual Dining',\n",
       "        'Cafe, Food Court', 'Beverage Shop, Cafe', 'Cafe, Dessert Parlor',\n",
       "        'Dessert Parlor, Cafe', 'Dessert Parlor, Bakery',\n",
       "        'Microbrewery, Pub', 'Bakery, Food Court', 'Club',\n",
       "        'Quick Bites, Food Court', 'Bakery, Cafe', 'Pub, Cafe',\n",
       "        'Casual Dining, Irani Cafee', 'Fine Dining, Lounge',\n",
       "        'Bar, Quick Bites', 'Confectionery', 'Pub, Microbrewery',\n",
       "        'Microbrewery, Lounge', 'Fine Dining, Microbrewery',\n",
       "        'Fine Dining, Bar', 'Dessert Parlor, Kiosk', 'Bhojanalya',\n",
       "        'Casual Dining, Quick Bites', 'Cafe, Bar', 'Casual Dining, Lounge',\n",
       "        'Bakery, Beverage Shop', 'Microbrewery, Bar', 'Cafe, Lounge',\n",
       "        'Bar, Pub', 'Lounge, Cafe', 'Club, Casual Dining',\n",
       "        'Quick Bites, Mess', 'Quick Bites, Meat Shop',\n",
       "        'Quick Bites, Kiosk', 'Lounge, Microbrewery',\n",
       "        'Food Court, Beverage Shop', 'Dessert Parlor, Food Court',\n",
       "        'Bar, Lounge'], dtype=object),\n",
       " False    43533\n",
       " Name: rest_type, dtype: int64)"
      ]
     },
     "execution_count": 29,
     "metadata": {},
     "output_type": "execute_result"
    }
   ],
   "source": [
    "zmt.rest_type.unique(), zmt.rest_type.isnull().value_counts()"
   ]
  },
  {
   "cell_type": "code",
   "execution_count": 30,
   "id": "9307953e",
   "metadata": {},
   "outputs": [
    {
     "data": {
      "text/plain": [
       "(array(['North Indian, Mughlai, Chinese', 'Chinese, North Indian, Thai',\n",
       "        'Cafe, Mexican, Italian', ..., 'Tibetan, Nepalese',\n",
       "        'North Indian, Street Food, Biryani',\n",
       "        'North Indian, Chinese, Arabian, Momos'], dtype=object),\n",
       " False    43533\n",
       " Name: food_type, dtype: int64)"
      ]
     },
     "execution_count": 30,
     "metadata": {},
     "output_type": "execute_result"
    }
   ],
   "source": [
    "zmt.food_type.unique(), zmt.food_type.isnull().value_counts()"
   ]
  },
  {
   "cell_type": "markdown",
   "id": "cb805b8f",
   "metadata": {},
   "source": [
    "As we see column 'rest_type' and 'food_type' are aslo correct so no need to perform any cleaning operations."
   ]
  },
  {
   "cell_type": "markdown",
   "id": "c5ba52fa",
   "metadata": {},
   "source": [
    "#### Column: 'cost'\n",
    "Column contains approximate cost for two people."
   ]
  },
  {
   "cell_type": "code",
   "execution_count": 31,
   "id": "3c4707c1",
   "metadata": {},
   "outputs": [
    {
     "data": {
      "text/plain": [
       "(array(['800', '300', '600', '700', '550', '500', '450', '650', '400',\n",
       "        '900', '200', '750', '150', '850', '100', '1,200', '350', '250',\n",
       "        '950', '1,000', '1,500', '1,300', '199', '80', '1,100', '160',\n",
       "        '1,600', '230', '130', '1,700', '1,400', '1,350', '2,200', '2,000',\n",
       "        '1,800', '1,900', '180', '330', '2,500', '2,100', '3,000', '2,800',\n",
       "        '3,400', '50', '40', '1,250', '3,500', '4,000', '2,400', '2,600',\n",
       "        '1,450', '70', '3,200', '560', '240', '360', '6,000', '1,050',\n",
       "        '2,300', '4,100', '120', '5,000', '3,700', '1,650', '2,700',\n",
       "        '4,500'], dtype=object),\n",
       " False    43533\n",
       " Name: cost, dtype: int64)"
      ]
     },
     "execution_count": 31,
     "metadata": {},
     "output_type": "execute_result"
    }
   ],
   "source": [
    "zmt.cost.unique(), zmt.cost.isnull().value_counts()"
   ]
  },
  {
   "cell_type": "markdown",
   "id": "27a4855a",
   "metadata": {},
   "source": [
    "Here see cost column string values with ',' values. And we know cost is always in int sp we need to make some transformations.\n",
    "\n",
    "Changes need:\n",
    " \n",
    "* Remove ' , ' from values\n",
    "\n",
    "* Change datatype object to integer(int)"
   ]
  },
  {
   "cell_type": "code",
   "execution_count": 32,
   "id": "f4df9f18",
   "metadata": {},
   "outputs": [],
   "source": [
    "def money(value):\n",
    "    value=str(value)\n",
    "    if ',' in value:\n",
    "        value=value.replace(',','')\n",
    "        return int(value)\n",
    "    else:\n",
    "        return int(value)\n",
    "\n",
    "zmt['cost']= zmt['cost'].apply(money)"
   ]
  },
  {
   "cell_type": "code",
   "execution_count": 33,
   "id": "c15ce310",
   "metadata": {},
   "outputs": [
    {
     "data": {
      "text/plain": [
       "array([ 800,  300,  600,  700,  550,  500,  450,  650,  400,  900,  200,\n",
       "        750,  150,  850,  100, 1200,  350,  250,  950, 1000, 1500, 1300,\n",
       "        199,   80, 1100,  160, 1600,  230,  130, 1700, 1400, 1350, 2200,\n",
       "       2000, 1800, 1900,  180,  330, 2500, 2100, 3000, 2800, 3400,   50,\n",
       "         40, 1250, 3500, 4000, 2400, 2600, 1450,   70, 3200,  560,  240,\n",
       "        360, 6000, 1050, 2300, 4100,  120, 5000, 3700, 1650, 2700, 4500],\n",
       "      dtype=int64)"
      ]
     },
     "execution_count": 33,
     "metadata": {},
     "output_type": "execute_result"
    }
   ],
   "source": [
    "zmt.cost.unique()"
   ]
  },
  {
   "cell_type": "code",
   "execution_count": 34,
   "id": "e86d4cba",
   "metadata": {},
   "outputs": [
    {
     "data": {
      "text/plain": [
       "dtype('int64')"
      ]
     },
     "execution_count": 34,
     "metadata": {},
     "output_type": "execute_result"
    }
   ],
   "source": [
    "zmt['cost'].dtypes"
   ]
  },
  {
   "cell_type": "code",
   "execution_count": 35,
   "id": "0c65e2bd",
   "metadata": {},
   "outputs": [
    {
     "data": {
      "text/plain": [
       "0"
      ]
     },
     "execution_count": 35,
     "metadata": {},
     "output_type": "execute_result"
    }
   ],
   "source": [
    "zmt['cost'].isnull().sum()"
   ]
  },
  {
   "cell_type": "markdown",
   "id": "45b584df",
   "metadata": {},
   "source": [
    "Here we changed the ' , ' to an empty string and changed the datatype object to int and updated the cost column, and cleared the data."
   ]
  },
  {
   "cell_type": "markdown",
   "id": "f79c666d",
   "metadata": {},
   "source": [
    "#### Column: 'type'\n",
    "Column shows which types of arrangment restaurant have."
   ]
  },
  {
   "cell_type": "code",
   "execution_count": 36,
   "id": "ec23fe14",
   "metadata": {},
   "outputs": [
    {
     "data": {
      "text/plain": [
       "(array(['Buffet', 'Cafes', 'Delivery', 'Desserts', 'Dine-out',\n",
       "        'Drinks & nightlife', 'Pubs and bars'], dtype=object),\n",
       " False    43533\n",
       " Name: type, dtype: int64)"
      ]
     },
     "execution_count": 36,
     "metadata": {},
     "output_type": "execute_result"
    }
   ],
   "source": [
    "zmt.type.unique(), zmt.type.isnull().value_counts()"
   ]
  },
  {
   "cell_type": "markdown",
   "id": "9ba46e7c",
   "metadata": {},
   "source": [
    "Here also all values are correct and have the correct datatype so no need to perform cleaning."
   ]
  },
  {
   "cell_type": "markdown",
   "id": "974b4bf7",
   "metadata": {},
   "source": [
    "#### Column: 'city'\n",
    "Column contains name of cities of restaurants."
   ]
  },
  {
   "cell_type": "code",
   "execution_count": 37,
   "id": "f775e8ac",
   "metadata": {},
   "outputs": [
    {
     "data": {
      "text/plain": [
       "(array(['Banashankari', 'Bannerghatta Road', 'Basavanagudi', 'Bellandur',\n",
       "        'Brigade Road', 'Brookefield', 'BTM', 'Church Street',\n",
       "        'Electronic City', 'Frazer Town', 'HSR', 'Indiranagar',\n",
       "        'Jayanagar', 'JP Nagar', 'Kalyan Nagar', 'Kammanahalli',\n",
       "        'Koramangala 4th Block', 'Koramangala 5th Block',\n",
       "        'Koramangala 6th Block', 'Koramangala 7th Block', 'Lavelle Road',\n",
       "        'Malleshwaram', 'Marathahalli', 'MG Road', 'New BEL Road',\n",
       "        'Old Airport Road', 'Rajajinagar', 'Residency Road',\n",
       "        'Sarjapur Road', 'Whitefield'], dtype=object),\n",
       " False    43533\n",
       " Name: city, dtype: int64)"
      ]
     },
     "execution_count": 37,
     "metadata": {},
     "output_type": "execute_result"
    }
   ],
   "source": [
    "zmt.city.unique(), zmt.city.isnull().value_counts()"
   ]
  },
  {
   "cell_type": "markdown",
   "id": "7c75178a",
   "metadata": {},
   "source": [
    "Here also all values are correct and have the correct datatype so no need to perform cleaning."
   ]
  },
  {
   "cell_type": "markdown",
   "id": "33be04b1",
   "metadata": {},
   "source": [
    "## Droping Duplicates\n",
    "Dropping duplicates means we are removing repeated values or duplicate values from the dataset."
   ]
  },
  {
   "cell_type": "code",
   "execution_count": 38,
   "id": "31e50e91",
   "metadata": {},
   "outputs": [
    {
     "data": {
      "text/plain": [
       "False    43361\n",
       "True       172\n",
       "dtype: int64"
      ]
     },
     "execution_count": 38,
     "metadata": {},
     "output_type": "execute_result"
    }
   ],
   "source": [
    "zmt.duplicated(keep=False).value_counts()  # by using .duplicated() we can see duplicate values from our dataset."
   ]
  },
  {
   "cell_type": "markdown",
   "id": "a151dfd1",
   "metadata": {},
   "source": [
    "We got 172 duplicate values in our dataset we need to remove those."
   ]
  },
  {
   "cell_type": "code",
   "execution_count": 39,
   "id": "5afd91d5",
   "metadata": {},
   "outputs": [],
   "source": [
    "zmt.drop_duplicates(keep=False ,inplace=True) # dropping duplicates values using .drop_duplicates()\n",
    "zmt.reset_index(drop=True,inplace=True)  # reseting index"
   ]
  },
  {
   "cell_type": "code",
   "execution_count": 40,
   "id": "9f242cdf",
   "metadata": {},
   "outputs": [
    {
     "data": {
      "text/plain": [
       "(43361, 11)"
      ]
     },
     "execution_count": 40,
     "metadata": {},
     "output_type": "execute_result"
    }
   ],
   "source": [
    "zmt.shape"
   ]
  },
  {
   "cell_type": "code",
   "execution_count": 41,
   "id": "fb76e303",
   "metadata": {},
   "outputs": [
    {
     "data": {
      "text/plain": [
       "0"
      ]
     },
     "execution_count": 41,
     "metadata": {},
     "output_type": "execute_result"
    }
   ],
   "source": [
    "#showing number of duplicate count after removing it\n",
    "zmt[zmt.duplicated()].count().sum()"
   ]
  },
  {
   "cell_type": "code",
   "execution_count": 42,
   "id": "4638decf",
   "metadata": {},
   "outputs": [
    {
     "data": {
      "text/html": [
       "<div>\n",
       "<style scoped>\n",
       "    .dataframe tbody tr th:only-of-type {\n",
       "        vertical-align: middle;\n",
       "    }\n",
       "\n",
       "    .dataframe tbody tr th {\n",
       "        vertical-align: top;\n",
       "    }\n",
       "\n",
       "    .dataframe thead th {\n",
       "        text-align: right;\n",
       "    }\n",
       "</style>\n",
       "<table border=\"1\" class=\"dataframe\">\n",
       "  <thead>\n",
       "    <tr style=\"text-align: right;\">\n",
       "      <th></th>\n",
       "      <th>restaurants</th>\n",
       "      <th>online_order</th>\n",
       "      <th>book_table</th>\n",
       "      <th>rating</th>\n",
       "      <th>votes</th>\n",
       "      <th>location</th>\n",
       "      <th>rest_type</th>\n",
       "      <th>food_type</th>\n",
       "      <th>cost</th>\n",
       "      <th>type</th>\n",
       "      <th>city</th>\n",
       "    </tr>\n",
       "  </thead>\n",
       "  <tbody>\n",
       "    <tr>\n",
       "      <th>0</th>\n",
       "      <td>Jalsa</td>\n",
       "      <td>Yes</td>\n",
       "      <td>Yes</td>\n",
       "      <td>4.1</td>\n",
       "      <td>775</td>\n",
       "      <td>Banashankari</td>\n",
       "      <td>Casual Dining</td>\n",
       "      <td>North Indian, Mughlai, Chinese</td>\n",
       "      <td>800</td>\n",
       "      <td>Buffet</td>\n",
       "      <td>Banashankari</td>\n",
       "    </tr>\n",
       "    <tr>\n",
       "      <th>1</th>\n",
       "      <td>Spice Elephant</td>\n",
       "      <td>Yes</td>\n",
       "      <td>No</td>\n",
       "      <td>4.1</td>\n",
       "      <td>787</td>\n",
       "      <td>Banashankari</td>\n",
       "      <td>Casual Dining</td>\n",
       "      <td>Chinese, North Indian, Thai</td>\n",
       "      <td>800</td>\n",
       "      <td>Buffet</td>\n",
       "      <td>Banashankari</td>\n",
       "    </tr>\n",
       "    <tr>\n",
       "      <th>2</th>\n",
       "      <td>San Churro Cafe</td>\n",
       "      <td>Yes</td>\n",
       "      <td>No</td>\n",
       "      <td>3.8</td>\n",
       "      <td>918</td>\n",
       "      <td>Banashankari</td>\n",
       "      <td>Cafe, Casual Dining</td>\n",
       "      <td>Cafe, Mexican, Italian</td>\n",
       "      <td>800</td>\n",
       "      <td>Buffet</td>\n",
       "      <td>Banashankari</td>\n",
       "    </tr>\n",
       "    <tr>\n",
       "      <th>3</th>\n",
       "      <td>Addhuri Udupi Bhojana</td>\n",
       "      <td>No</td>\n",
       "      <td>No</td>\n",
       "      <td>3.7</td>\n",
       "      <td>88</td>\n",
       "      <td>Banashankari</td>\n",
       "      <td>Quick Bites</td>\n",
       "      <td>South Indian, North Indian</td>\n",
       "      <td>300</td>\n",
       "      <td>Buffet</td>\n",
       "      <td>Banashankari</td>\n",
       "    </tr>\n",
       "    <tr>\n",
       "      <th>4</th>\n",
       "      <td>Grand Village</td>\n",
       "      <td>No</td>\n",
       "      <td>No</td>\n",
       "      <td>3.8</td>\n",
       "      <td>166</td>\n",
       "      <td>Basavanagudi</td>\n",
       "      <td>Casual Dining</td>\n",
       "      <td>North Indian, Rajasthani</td>\n",
       "      <td>600</td>\n",
       "      <td>Buffet</td>\n",
       "      <td>Banashankari</td>\n",
       "    </tr>\n",
       "    <tr>\n",
       "      <th>...</th>\n",
       "      <td>...</td>\n",
       "      <td>...</td>\n",
       "      <td>...</td>\n",
       "      <td>...</td>\n",
       "      <td>...</td>\n",
       "      <td>...</td>\n",
       "      <td>...</td>\n",
       "      <td>...</td>\n",
       "      <td>...</td>\n",
       "      <td>...</td>\n",
       "      <td>...</td>\n",
       "    </tr>\n",
       "    <tr>\n",
       "      <th>43356</th>\n",
       "      <td>The Farm House Bar n Grill</td>\n",
       "      <td>No</td>\n",
       "      <td>No</td>\n",
       "      <td>3.7</td>\n",
       "      <td>34</td>\n",
       "      <td>Whitefield</td>\n",
       "      <td>Casual Dining, Bar</td>\n",
       "      <td>North Indian, Continental</td>\n",
       "      <td>800</td>\n",
       "      <td>Pubs and bars</td>\n",
       "      <td>Whitefield</td>\n",
       "    </tr>\n",
       "    <tr>\n",
       "      <th>43357</th>\n",
       "      <td>Bhagini</td>\n",
       "      <td>No</td>\n",
       "      <td>No</td>\n",
       "      <td>2.5</td>\n",
       "      <td>81</td>\n",
       "      <td>Whitefield</td>\n",
       "      <td>Casual Dining, Bar</td>\n",
       "      <td>Andhra, South Indian, Chinese, North Indian</td>\n",
       "      <td>800</td>\n",
       "      <td>Pubs and bars</td>\n",
       "      <td>Whitefield</td>\n",
       "    </tr>\n",
       "    <tr>\n",
       "      <th>43358</th>\n",
       "      <td>Best Brews - Four Points by Sheraton Bengaluru...</td>\n",
       "      <td>No</td>\n",
       "      <td>No</td>\n",
       "      <td>3.6</td>\n",
       "      <td>27</td>\n",
       "      <td>Whitefield</td>\n",
       "      <td>Bar</td>\n",
       "      <td>Continental</td>\n",
       "      <td>1500</td>\n",
       "      <td>Pubs and bars</td>\n",
       "      <td>Whitefield</td>\n",
       "    </tr>\n",
       "    <tr>\n",
       "      <th>43359</th>\n",
       "      <td>Chime - Sheraton Grand Bengaluru Whitefield Ho...</td>\n",
       "      <td>No</td>\n",
       "      <td>Yes</td>\n",
       "      <td>4.3</td>\n",
       "      <td>236</td>\n",
       "      <td>ITPL Main Road, Whitefield</td>\n",
       "      <td>Bar</td>\n",
       "      <td>Finger Food</td>\n",
       "      <td>2500</td>\n",
       "      <td>Pubs and bars</td>\n",
       "      <td>Whitefield</td>\n",
       "    </tr>\n",
       "    <tr>\n",
       "      <th>43360</th>\n",
       "      <td>The Nest - The Den Bengaluru</td>\n",
       "      <td>No</td>\n",
       "      <td>No</td>\n",
       "      <td>3.4</td>\n",
       "      <td>13</td>\n",
       "      <td>ITPL Main Road, Whitefield</td>\n",
       "      <td>Bar, Casual Dining</td>\n",
       "      <td>Finger Food, North Indian, Continental</td>\n",
       "      <td>1500</td>\n",
       "      <td>Pubs and bars</td>\n",
       "      <td>Whitefield</td>\n",
       "    </tr>\n",
       "  </tbody>\n",
       "</table>\n",
       "<p>43361 rows × 11 columns</p>\n",
       "</div>"
      ],
      "text/plain": [
       "                                             restaurants online_order  \\\n",
       "0                                                  Jalsa          Yes   \n",
       "1                                         Spice Elephant          Yes   \n",
       "2                                        San Churro Cafe          Yes   \n",
       "3                                  Addhuri Udupi Bhojana           No   \n",
       "4                                          Grand Village           No   \n",
       "...                                                  ...          ...   \n",
       "43356                         The Farm House Bar n Grill           No   \n",
       "43357                                            Bhagini           No   \n",
       "43358  Best Brews - Four Points by Sheraton Bengaluru...           No   \n",
       "43359  Chime - Sheraton Grand Bengaluru Whitefield Ho...           No   \n",
       "43360                       The Nest - The Den Bengaluru           No   \n",
       "\n",
       "      book_table  rating  votes                    location  \\\n",
       "0            Yes     4.1    775                Banashankari   \n",
       "1             No     4.1    787                Banashankari   \n",
       "2             No     3.8    918                Banashankari   \n",
       "3             No     3.7     88                Banashankari   \n",
       "4             No     3.8    166                Basavanagudi   \n",
       "...          ...     ...    ...                         ...   \n",
       "43356         No     3.7     34                  Whitefield   \n",
       "43357         No     2.5     81                  Whitefield   \n",
       "43358         No     3.6     27                  Whitefield   \n",
       "43359        Yes     4.3    236  ITPL Main Road, Whitefield   \n",
       "43360         No     3.4     13  ITPL Main Road, Whitefield   \n",
       "\n",
       "                 rest_type                                    food_type  cost  \\\n",
       "0            Casual Dining               North Indian, Mughlai, Chinese   800   \n",
       "1            Casual Dining                  Chinese, North Indian, Thai   800   \n",
       "2      Cafe, Casual Dining                       Cafe, Mexican, Italian   800   \n",
       "3              Quick Bites                   South Indian, North Indian   300   \n",
       "4            Casual Dining                     North Indian, Rajasthani   600   \n",
       "...                    ...                                          ...   ...   \n",
       "43356   Casual Dining, Bar                    North Indian, Continental   800   \n",
       "43357   Casual Dining, Bar  Andhra, South Indian, Chinese, North Indian   800   \n",
       "43358                  Bar                                  Continental  1500   \n",
       "43359                  Bar                                  Finger Food  2500   \n",
       "43360   Bar, Casual Dining       Finger Food, North Indian, Continental  1500   \n",
       "\n",
       "                type          city  \n",
       "0             Buffet  Banashankari  \n",
       "1             Buffet  Banashankari  \n",
       "2             Buffet  Banashankari  \n",
       "3             Buffet  Banashankari  \n",
       "4             Buffet  Banashankari  \n",
       "...              ...           ...  \n",
       "43356  Pubs and bars    Whitefield  \n",
       "43357  Pubs and bars    Whitefield  \n",
       "43358  Pubs and bars    Whitefield  \n",
       "43359  Pubs and bars    Whitefield  \n",
       "43360  Pubs and bars    Whitefield  \n",
       "\n",
       "[43361 rows x 11 columns]"
      ]
     },
     "execution_count": 42,
     "metadata": {},
     "output_type": "execute_result"
    }
   ],
   "source": [
    "zmt"
   ]
  },
  {
   "cell_type": "code",
   "execution_count": 43,
   "id": "eaf8dc50",
   "metadata": {},
   "outputs": [
    {
     "name": "stdout",
     "output_type": "stream",
     "text": [
      "<class 'pandas.core.frame.DataFrame'>\n",
      "RangeIndex: 43361 entries, 0 to 43360\n",
      "Data columns (total 11 columns):\n",
      " #   Column        Non-Null Count  Dtype  \n",
      "---  ------        --------------  -----  \n",
      " 0   restaurants   43361 non-null  object \n",
      " 1   online_order  43361 non-null  object \n",
      " 2   book_table    43361 non-null  object \n",
      " 3   rating        43361 non-null  float64\n",
      " 4   votes         43361 non-null  int64  \n",
      " 5   location      43361 non-null  object \n",
      " 6   rest_type     43361 non-null  object \n",
      " 7   food_type     43361 non-null  object \n",
      " 8   cost          43361 non-null  int64  \n",
      " 9   type          43361 non-null  object \n",
      " 10  city          43361 non-null  object \n",
      "dtypes: float64(1), int64(2), object(8)\n",
      "memory usage: 3.6+ MB\n"
     ]
    }
   ],
   "source": [
    "zmt.info()"
   ]
  },
  {
   "cell_type": "code",
   "execution_count": 44,
   "id": "91e75705",
   "metadata": {},
   "outputs": [],
   "source": [
    "zmt.to_csv('./zomato_clean_data.csv') # Saivng cleaned dataset in output directory."
   ]
  },
  {
   "cell_type": "markdown",
   "id": "f55c59dc",
   "metadata": {},
   "source": [
    "Therefore, we successfully cleaned our data and got 43361 value data out of 51717.\n",
    "\n",
    "If you have more cleaning ideas on this dataset keep them in the comments"
   ]
  },
  {
   "cell_type": "markdown",
   "id": "d6a565ae",
   "metadata": {},
   "source": [
    "# Data Visualization\n",
    "\n",
    "So we know that we are working on Zomato or we can say restaurant rating dataset. More things we can imagine by looking at a database.\n",
    "\n",
    "For Ex.\n",
    "\n",
    "* How many restaurants accpeting online order for zomato?\n",
    "\n",
    "* Find best location by seeing dataset.\n",
    "\n",
    "* Find Types of restraunts and their count.\n",
    "\n",
    "* Find count of restaurants have table boking facility.\n",
    "\n",
    "* Find number of restaurant at given location.\n",
    "\n",
    "* Find most famous restaurants chains(like Franchise(Rastaurants having more than one branch) in Bangalore.\n",
    "\n",
    "* Find how many voters gives rating for each 'type' and aggregate rating of that 'type'.\n",
    "\n",
    "* Gaussian Rest Type(Normal Distribution) of Rating.\n",
    "\n",
    "* Find the how many Restaurants havign Chinese and North Indian food in their food type.\n",
    "\n",
    "* Most famous restaurant chains in Bengaluru(No. of restaurants)\n",
    "\n",
    "* Find the most profitable type of restaurant.\n",
    "\n",
    "Here we are going to use two python libraries for visualization.\n",
    "\n",
    "* Seaborn\n",
    "\n",
    "* Matplotlib\n",
    "\n",
    "So, first we are going to import them."
   ]
  },
  {
   "cell_type": "code",
   "execution_count": 195,
   "id": "7eb39e7e",
   "metadata": {},
   "outputs": [],
   "source": [
    "#importing libraries \n",
    "import seaborn as sns\n",
    "import matplotlib.pyplot as plt\n",
    "%matplotlib inline"
   ]
  },
  {
   "cell_type": "markdown",
   "id": "a4584613",
   "metadata": {},
   "source": [
    "### We know zomato mostely focused on online delivery lets find,\n",
    "### 1) How many restaurants accpeting online order for zomato?"
   ]
  },
  {
   "cell_type": "code",
   "execution_count": 47,
   "id": "7cac73ba",
   "metadata": {},
   "outputs": [
    {
     "data": {
      "text/html": [
       "<div>\n",
       "<style scoped>\n",
       "    .dataframe tbody tr th:only-of-type {\n",
       "        vertical-align: middle;\n",
       "    }\n",
       "\n",
       "    .dataframe tbody tr th {\n",
       "        vertical-align: top;\n",
       "    }\n",
       "\n",
       "    .dataframe thead th {\n",
       "        text-align: right;\n",
       "    }\n",
       "</style>\n",
       "<table border=\"1\" class=\"dataframe\">\n",
       "  <thead>\n",
       "    <tr style=\"text-align: right;\">\n",
       "      <th></th>\n",
       "      <th>restaurants</th>\n",
       "      <th>online_order</th>\n",
       "      <th>book_table</th>\n",
       "      <th>rating</th>\n",
       "      <th>votes</th>\n",
       "      <th>location</th>\n",
       "      <th>rest_type</th>\n",
       "      <th>food_type</th>\n",
       "      <th>cost</th>\n",
       "      <th>type</th>\n",
       "      <th>city</th>\n",
       "    </tr>\n",
       "  </thead>\n",
       "  <tbody>\n",
       "    <tr>\n",
       "      <th>0</th>\n",
       "      <td>Jalsa</td>\n",
       "      <td>Yes</td>\n",
       "      <td>Yes</td>\n",
       "      <td>4.1</td>\n",
       "      <td>775</td>\n",
       "      <td>Banashankari</td>\n",
       "      <td>Casual Dining</td>\n",
       "      <td>North Indian, Mughlai, Chinese</td>\n",
       "      <td>800</td>\n",
       "      <td>Buffet</td>\n",
       "      <td>Banashankari</td>\n",
       "    </tr>\n",
       "  </tbody>\n",
       "</table>\n",
       "</div>"
      ],
      "text/plain": [
       "  restaurants online_order book_table  rating  votes      location  \\\n",
       "0       Jalsa          Yes        Yes     4.1    775  Banashankari   \n",
       "\n",
       "       rest_type                       food_type  cost    type          city  \n",
       "0  Casual Dining  North Indian, Mughlai, Chinese   800  Buffet  Banashankari  "
      ]
     },
     "execution_count": 47,
     "metadata": {},
     "output_type": "execute_result"
    }
   ],
   "source": [
    "zmt.head(1) # see the name of the cloumns "
   ]
  },
  {
   "cell_type": "code",
   "execution_count": 70,
   "id": "5325df6f",
   "metadata": {},
   "outputs": [
    {
     "data": {
      "image/png": "[encoded data removed]",
      "text/plain": [
       "<Figure size 640x400 with 1 Axes>"
      ]
     },
     "metadata": {
      "needs_background": "light"
     },
     "output_type": "display_data"
    }
   ],
   "source": [
    "plt.figure(figsize=(8,5), dpi=80)\n",
    "sns.countplot(x='online_order',data=zmt, palette='bright') # countplot gives us count of the values\n",
    "plt.title(\"Online delivery\")\n",
    "plt.show()"
   ]
  },
  {
   "cell_type": "markdown",
   "id": "109d9710",
   "metadata": {},
   "source": [
    "By observing the graph, we can say that 25000+ restaurants are accepting online order for zomato and 15000 restaurants not accepting online orders."
   ]
  },
  {
   "cell_type": "markdown",
   "id": "cd4a0841",
   "metadata": {},
   "source": [
    "### 2) Find best location by seeing dataset.\n",
    "\n",
    "How can we find?\n",
    "\n",
    "We have two columns 'rating' and 'votes' so by geeting the average of those columns with repect to 'location' we can find the best location."
   ]
  },
  {
   "cell_type": "code",
   "execution_count": 71,
   "id": "deb49df8",
   "metadata": {},
   "outputs": [
    {
     "data": {
      "text/html": [
       "<div>\n",
       "<style scoped>\n",
       "    .dataframe tbody tr th:only-of-type {\n",
       "        vertical-align: middle;\n",
       "    }\n",
       "\n",
       "    .dataframe tbody tr th {\n",
       "        vertical-align: top;\n",
       "    }\n",
       "\n",
       "    .dataframe thead th {\n",
       "        text-align: right;\n",
       "    }\n",
       "</style>\n",
       "<table border=\"1\" class=\"dataframe\">\n",
       "  <thead>\n",
       "    <tr style=\"text-align: right;\">\n",
       "      <th></th>\n",
       "      <th>restaurants</th>\n",
       "      <th>online_order</th>\n",
       "      <th>book_table</th>\n",
       "      <th>rating</th>\n",
       "      <th>votes</th>\n",
       "      <th>location</th>\n",
       "      <th>rest_type</th>\n",
       "      <th>food_type</th>\n",
       "      <th>cost</th>\n",
       "      <th>type</th>\n",
       "      <th>city</th>\n",
       "    </tr>\n",
       "  </thead>\n",
       "  <tbody>\n",
       "    <tr>\n",
       "      <th>0</th>\n",
       "      <td>Jalsa</td>\n",
       "      <td>Yes</td>\n",
       "      <td>Yes</td>\n",
       "      <td>4.1</td>\n",
       "      <td>775</td>\n",
       "      <td>Banashankari</td>\n",
       "      <td>Casual Dining</td>\n",
       "      <td>North Indian, Mughlai, Chinese</td>\n",
       "      <td>800</td>\n",
       "      <td>Buffet</td>\n",
       "      <td>Banashankari</td>\n",
       "    </tr>\n",
       "  </tbody>\n",
       "</table>\n",
       "</div>"
      ],
      "text/plain": [
       "  restaurants online_order book_table  rating  votes      location  \\\n",
       "0       Jalsa          Yes        Yes     4.1    775  Banashankari   \n",
       "\n",
       "       rest_type                       food_type  cost    type          city  \n",
       "0  Casual Dining  North Indian, Mughlai, Chinese   800  Buffet  Banashankari  "
      ]
     },
     "execution_count": 71,
     "metadata": {},
     "output_type": "execute_result"
    }
   ],
   "source": [
    "zmt.head(1)"
   ]
  },
  {
   "cell_type": "code",
   "execution_count": 85,
   "id": "e029f812",
   "metadata": {},
   "outputs": [
    {
     "data": {
      "text/html": [
       "<div>\n",
       "<style scoped>\n",
       "    .dataframe tbody tr th:only-of-type {\n",
       "        vertical-align: middle;\n",
       "    }\n",
       "\n",
       "    .dataframe tbody tr th {\n",
       "        vertical-align: top;\n",
       "    }\n",
       "\n",
       "    .dataframe thead th {\n",
       "        text-align: right;\n",
       "    }\n",
       "</style>\n",
       "<table border=\"1\" class=\"dataframe\">\n",
       "  <thead>\n",
       "    <tr style=\"text-align: right;\">\n",
       "      <th></th>\n",
       "      <th>rating</th>\n",
       "    </tr>\n",
       "    <tr>\n",
       "      <th>location</th>\n",
       "      <th></th>\n",
       "    </tr>\n",
       "  </thead>\n",
       "  <tbody>\n",
       "    <tr>\n",
       "      <th>BTM</th>\n",
       "      <td>15014.853733</td>\n",
       "    </tr>\n",
       "    <tr>\n",
       "      <th>Koramangala 5th Block</th>\n",
       "      <td>9413.322701</td>\n",
       "    </tr>\n",
       "    <tr>\n",
       "      <th>HSR</th>\n",
       "      <td>7719.215229</td>\n",
       "    </tr>\n",
       "    <tr>\n",
       "      <th>Indiranagar</th>\n",
       "      <td>7170.670976</td>\n",
       "    </tr>\n",
       "    <tr>\n",
       "      <th>JP Nagar</th>\n",
       "      <td>6769.861493</td>\n",
       "    </tr>\n",
       "  </tbody>\n",
       "</table>\n",
       "</div>"
      ],
      "text/plain": [
       "                             rating\n",
       "location                           \n",
       "BTM                    15014.853733\n",
       "Koramangala 5th Block   9413.322701\n",
       "HSR                     7719.215229\n",
       "Indiranagar             7170.670976\n",
       "JP Nagar                6769.861493"
      ]
     },
     "metadata": {},
     "output_type": "display_data"
    },
    {
     "name": "stdout",
     "output_type": "stream",
     "text": [
      "AxesSubplot(0.125,0.125;0.775x0.755)\n"
     ]
    },
    {
     "data": {
      "image/png": "[encoded data removed]",
      "text/plain": [
       "<Figure size 720x720 with 1 Axes>"
      ]
     },
     "metadata": {
      "needs_background": "light"
     },
     "output_type": "display_data"
    }
   ],
   "source": [
    "#Best location(ratings)\n",
    "loc_rate=zmt.loc[:,['location','rating']]\n",
    "loc_rate=zmt.groupby('location')['rating'].sum()\n",
    "loc_rate=loc_rate.to_frame()\n",
    "loc_rate=loc_rate.sort_values(\"rating\",ascending=False)\n",
    "display(loc_rate.head())\n",
    "plt.figure(figsize=(10,10))\n",
    "pt=sns.barplot(y=loc_rate.index[:10],x=loc_rate['rating'][:10],palette='coolwarm',orient='h')\n",
    "plt.title('Best Location(rating)')\n",
    "print(pt)"
   ]
  },
  {
   "cell_type": "markdown",
   "id": "b977b2bc",
   "metadata": {},
   "source": [
    "* Here we have plotted bar plot for the locations of restaurants in banglore in considaration with ratings.\n",
    "* Graphs shows that the which location has more number of restaurants and which has the lowest.\n",
    "\n",
    "Top 3 restaurants are:\n",
    "\n",
    "1. BTM\n",
    "2. Koramangla 5th block\n",
    "3. HSR"
   ]
  },
  {
   "cell_type": "code",
   "execution_count": null,
   "id": "55299d2f",
   "metadata": {},
   "outputs": [],
   "source": []
  },
  {
   "cell_type": "code",
   "execution_count": 88,
   "id": "b8e34d31",
   "metadata": {},
   "outputs": [
    {
     "data": {
      "text/html": [
       "<div>\n",
       "<style scoped>\n",
       "    .dataframe tbody tr th:only-of-type {\n",
       "        vertical-align: middle;\n",
       "    }\n",
       "\n",
       "    .dataframe tbody tr th {\n",
       "        vertical-align: top;\n",
       "    }\n",
       "\n",
       "    .dataframe thead th {\n",
       "        text-align: right;\n",
       "    }\n",
       "</style>\n",
       "<table border=\"1\" class=\"dataframe\">\n",
       "  <thead>\n",
       "    <tr style=\"text-align: right;\">\n",
       "      <th></th>\n",
       "      <th>votes</th>\n",
       "    </tr>\n",
       "    <tr>\n",
       "      <th>location</th>\n",
       "      <th></th>\n",
       "    </tr>\n",
       "  </thead>\n",
       "  <tbody>\n",
       "    <tr>\n",
       "      <th>Koramangala 5th Block</th>\n",
       "      <td>2213339</td>\n",
       "    </tr>\n",
       "    <tr>\n",
       "      <th>Indiranagar</th>\n",
       "      <td>1159089</td>\n",
       "    </tr>\n",
       "    <tr>\n",
       "      <th>Koramangala 4th Block</th>\n",
       "      <td>685156</td>\n",
       "    </tr>\n",
       "    <tr>\n",
       "      <th>Church Street</th>\n",
       "      <td>585633</td>\n",
       "    </tr>\n",
       "    <tr>\n",
       "      <th>JP Nagar</th>\n",
       "      <td>578010</td>\n",
       "    </tr>\n",
       "  </tbody>\n",
       "</table>\n",
       "</div>"
      ],
      "text/plain": [
       "                         votes\n",
       "location                      \n",
       "Koramangala 5th Block  2213339\n",
       "Indiranagar            1159089\n",
       "Koramangala 4th Block   685156\n",
       "Church Street           585633\n",
       "JP Nagar                578010"
      ]
     },
     "metadata": {},
     "output_type": "display_data"
    },
    {
     "name": "stdout",
     "output_type": "stream",
     "text": [
      "AxesSubplot(0.125,0.125;0.775x0.755)\n"
     ]
    },
    {
     "data": {
      "image/png": "[encoded data removed]",
      "text/plain": [
       "<Figure size 720x720 with 1 Axes>"
      ]
     },
     "metadata": {
      "needs_background": "light"
     },
     "output_type": "display_data"
    }
   ],
   "source": [
    "#Best location(votes)\n",
    "loc_vote=zmt.loc[:,['location','votes']]\n",
    "loc_vote=zmt.groupby('location')['votes'].sum()\n",
    "loc_vote=loc_vote.to_frame()\n",
    "loc_vote=loc_vote.sort_values(\"votes\",ascending=False)\n",
    "display(loc_vote.head())\n",
    "plt.figure(figsize=(10,10))\n",
    "pt=sns.barplot(y=loc_vote.index[:10],x=loc_vote['votes'][:10],palette='summer',orient='h')\n",
    "plt.title('Best Location(voting)')\n",
    "print(pt)"
   ]
  },
  {
   "cell_type": "markdown",
   "id": "c10df5d6",
   "metadata": {},
   "source": []
  },
  {
   "cell_type": "markdown",
   "id": "0305c456",
   "metadata": {},
   "source": [
    "* Here we have plotted bar plot for the locations of restaurants in banglore in considaration with votes.\n",
    "* Graphs shows that the which location has more number of restaurants and which has the lowest.\n",
    "\n",
    "Top 3 restaurants are:\n",
    "\n",
    "1. Koramangla 5th block\n",
    "2. Indiranagarindiranagar\n",
    "3. Koramangla 4th block"
   ]
  },
  {
   "cell_type": "markdown",
   "id": "5d57e46b",
   "metadata": {},
   "source": [
    "### 3) Find Types of restraunts and their count."
   ]
  },
  {
   "cell_type": "code",
   "execution_count": 89,
   "id": "78b7093f",
   "metadata": {},
   "outputs": [
    {
     "data": {
      "text/html": [
       "<div>\n",
       "<style scoped>\n",
       "    .dataframe tbody tr th:only-of-type {\n",
       "        vertical-align: middle;\n",
       "    }\n",
       "\n",
       "    .dataframe tbody tr th {\n",
       "        vertical-align: top;\n",
       "    }\n",
       "\n",
       "    .dataframe thead th {\n",
       "        text-align: right;\n",
       "    }\n",
       "</style>\n",
       "<table border=\"1\" class=\"dataframe\">\n",
       "  <thead>\n",
       "    <tr style=\"text-align: right;\">\n",
       "      <th></th>\n",
       "      <th>restaurants</th>\n",
       "      <th>online_order</th>\n",
       "      <th>book_table</th>\n",
       "      <th>rating</th>\n",
       "      <th>votes</th>\n",
       "      <th>location</th>\n",
       "      <th>rest_type</th>\n",
       "      <th>food_type</th>\n",
       "      <th>cost</th>\n",
       "      <th>type</th>\n",
       "      <th>city</th>\n",
       "    </tr>\n",
       "  </thead>\n",
       "  <tbody>\n",
       "    <tr>\n",
       "      <th>0</th>\n",
       "      <td>Jalsa</td>\n",
       "      <td>Yes</td>\n",
       "      <td>Yes</td>\n",
       "      <td>4.1</td>\n",
       "      <td>775</td>\n",
       "      <td>Banashankari</td>\n",
       "      <td>Casual Dining</td>\n",
       "      <td>North Indian, Mughlai, Chinese</td>\n",
       "      <td>800</td>\n",
       "      <td>Buffet</td>\n",
       "      <td>Banashankari</td>\n",
       "    </tr>\n",
       "  </tbody>\n",
       "</table>\n",
       "</div>"
      ],
      "text/plain": [
       "  restaurants online_order book_table  rating  votes      location  \\\n",
       "0       Jalsa          Yes        Yes     4.1    775  Banashankari   \n",
       "\n",
       "       rest_type                       food_type  cost    type          city  \n",
       "0  Casual Dining  North Indian, Mughlai, Chinese   800  Buffet  Banashankari  "
      ]
     },
     "execution_count": 89,
     "metadata": {},
     "output_type": "execute_result"
    }
   ],
   "source": [
    "zmt.head(1)"
   ]
  },
  {
   "cell_type": "code",
   "execution_count": 58,
   "id": "33af7b66",
   "metadata": {},
   "outputs": [
    {
     "data": {
      "text/html": [
       "<div>\n",
       "<style scoped>\n",
       "    .dataframe tbody tr th:only-of-type {\n",
       "        vertical-align: middle;\n",
       "    }\n",
       "\n",
       "    .dataframe tbody tr th {\n",
       "        vertical-align: top;\n",
       "    }\n",
       "\n",
       "    .dataframe thead th {\n",
       "        text-align: right;\n",
       "    }\n",
       "</style>\n",
       "<table border=\"1\" class=\"dataframe\">\n",
       "  <thead>\n",
       "    <tr style=\"text-align: right;\">\n",
       "      <th></th>\n",
       "      <th>rest_type</th>\n",
       "    </tr>\n",
       "  </thead>\n",
       "  <tbody>\n",
       "    <tr>\n",
       "      <th>Quick Bites</th>\n",
       "      <td>14951</td>\n",
       "    </tr>\n",
       "    <tr>\n",
       "      <th>Casual Dining</th>\n",
       "      <td>9840</td>\n",
       "    </tr>\n",
       "    <tr>\n",
       "      <th>Cafe</th>\n",
       "      <td>3483</td>\n",
       "    </tr>\n",
       "    <tr>\n",
       "      <th>Dessert Parlor</th>\n",
       "      <td>1921</td>\n",
       "    </tr>\n",
       "    <tr>\n",
       "      <th>Delivery</th>\n",
       "      <td>1773</td>\n",
       "    </tr>\n",
       "    <tr>\n",
       "      <th>Takeaway, Delivery</th>\n",
       "      <td>1446</td>\n",
       "    </tr>\n",
       "    <tr>\n",
       "      <th>Casual Dining, Bar</th>\n",
       "      <td>1111</td>\n",
       "    </tr>\n",
       "    <tr>\n",
       "      <th>Bakery</th>\n",
       "      <td>775</td>\n",
       "    </tr>\n",
       "    <tr>\n",
       "      <th>Beverage Shop</th>\n",
       "      <td>698</td>\n",
       "    </tr>\n",
       "    <tr>\n",
       "      <th>Bar</th>\n",
       "      <td>650</td>\n",
       "    </tr>\n",
       "    <tr>\n",
       "      <th>Food Court</th>\n",
       "      <td>521</td>\n",
       "    </tr>\n",
       "    <tr>\n",
       "      <th>Bar, Casual Dining</th>\n",
       "      <td>402</td>\n",
       "    </tr>\n",
       "    <tr>\n",
       "      <th>Lounge</th>\n",
       "      <td>394</td>\n",
       "    </tr>\n",
       "    <tr>\n",
       "      <th>Pub</th>\n",
       "      <td>352</td>\n",
       "    </tr>\n",
       "    <tr>\n",
       "      <th>Sweet Shop</th>\n",
       "      <td>351</td>\n",
       "    </tr>\n",
       "    <tr>\n",
       "      <th>Fine Dining</th>\n",
       "      <td>341</td>\n",
       "    </tr>\n",
       "    <tr>\n",
       "      <th>Casual Dining, Cafe</th>\n",
       "      <td>311</td>\n",
       "    </tr>\n",
       "    <tr>\n",
       "      <th>Pub, Casual Dining</th>\n",
       "      <td>255</td>\n",
       "    </tr>\n",
       "    <tr>\n",
       "      <th>Beverage Shop, Quick Bites</th>\n",
       "      <td>243</td>\n",
       "    </tr>\n",
       "    <tr>\n",
       "      <th>Bakery, Quick Bites</th>\n",
       "      <td>231</td>\n",
       "    </tr>\n",
       "  </tbody>\n",
       "</table>\n",
       "</div>"
      ],
      "text/plain": [
       "                            rest_type\n",
       "Quick Bites                     14951\n",
       "Casual Dining                    9840\n",
       "Cafe                             3483\n",
       "Dessert Parlor                   1921\n",
       "Delivery                         1773\n",
       "Takeaway, Delivery               1446\n",
       "Casual Dining, Bar               1111\n",
       "Bakery                            775\n",
       "Beverage Shop                     698\n",
       "Bar                               650\n",
       "Food Court                        521\n",
       "Bar, Casual Dining                402\n",
       "Lounge                            394\n",
       "Pub                               352\n",
       "Sweet Shop                        351\n",
       "Fine Dining                       341\n",
       "Casual Dining, Cafe               311\n",
       "Pub, Casual Dining                255\n",
       "Beverage Shop, Quick Bites        243\n",
       "Bakery, Quick Bites               231"
      ]
     },
     "metadata": {},
     "output_type": "display_data"
    },
    {
     "data": {
      "text/plain": [
       "Text(0.5, 1.0, 'Restaurant Types')"
      ]
     },
     "execution_count": 58,
     "metadata": {},
     "output_type": "execute_result"
    },
    {
     "data": {
      "image/png": "[encoded data removed]",
      "text/plain": [
       "<Figure size 855x475 with 1 Axes>"
      ]
     },
     "metadata": {
      "needs_background": "light"
     },
     "output_type": "display_data"
    }
   ],
   "source": [
    "#Restaurant type\n",
    "type1=zmt['rest_type'].value_counts().head(20)\n",
    "display(type1.to_frame())\n",
    "plt.figure(figsize=(9,5),dpi=95)\n",
    "sns.barplot(x=type1,y= type1.index ,palette='bright')\n",
    "plt.title('Restaurant Types')"
   ]
  },
  {
   "cell_type": "markdown",
   "id": "878634af",
   "metadata": {},
   "source": [
    "In this graph it shows that the types of restaurants in Banglore and among all of them we have ploted first 20 restaurant types.\n",
    "\n",
    "Here the top 3 restaurant types are:\n",
    "\n",
    "* Quick Bites\n",
    "* Casual Dining\n",
    "* Cafe"
   ]
  },
  {
   "cell_type": "markdown",
   "id": "9de3c5ea",
   "metadata": {},
   "source": [
    "### 4) Find Cost's of restaurants"
   ]
  },
  {
   "cell_type": "code",
   "execution_count": 90,
   "id": "45e03dc6",
   "metadata": {},
   "outputs": [
    {
     "data": {
      "text/html": [
       "<div>\n",
       "<style scoped>\n",
       "    .dataframe tbody tr th:only-of-type {\n",
       "        vertical-align: middle;\n",
       "    }\n",
       "\n",
       "    .dataframe tbody tr th {\n",
       "        vertical-align: top;\n",
       "    }\n",
       "\n",
       "    .dataframe thead th {\n",
       "        text-align: right;\n",
       "    }\n",
       "</style>\n",
       "<table border=\"1\" class=\"dataframe\">\n",
       "  <thead>\n",
       "    <tr style=\"text-align: right;\">\n",
       "      <th></th>\n",
       "      <th>restaurants</th>\n",
       "      <th>online_order</th>\n",
       "      <th>book_table</th>\n",
       "      <th>rating</th>\n",
       "      <th>votes</th>\n",
       "      <th>location</th>\n",
       "      <th>rest_type</th>\n",
       "      <th>food_type</th>\n",
       "      <th>cost</th>\n",
       "      <th>type</th>\n",
       "      <th>city</th>\n",
       "    </tr>\n",
       "  </thead>\n",
       "  <tbody>\n",
       "    <tr>\n",
       "      <th>0</th>\n",
       "      <td>Jalsa</td>\n",
       "      <td>Yes</td>\n",
       "      <td>Yes</td>\n",
       "      <td>4.1</td>\n",
       "      <td>775</td>\n",
       "      <td>Banashankari</td>\n",
       "      <td>Casual Dining</td>\n",
       "      <td>North Indian, Mughlai, Chinese</td>\n",
       "      <td>800</td>\n",
       "      <td>Buffet</td>\n",
       "      <td>Banashankari</td>\n",
       "    </tr>\n",
       "  </tbody>\n",
       "</table>\n",
       "</div>"
      ],
      "text/plain": [
       "  restaurants online_order book_table  rating  votes      location  \\\n",
       "0       Jalsa          Yes        Yes     4.1    775  Banashankari   \n",
       "\n",
       "       rest_type                       food_type  cost    type          city  \n",
       "0  Casual Dining  North Indian, Mughlai, Chinese   800  Buffet  Banashankari  "
      ]
     },
     "execution_count": 90,
     "metadata": {},
     "output_type": "execute_result"
    }
   ],
   "source": [
    "zmt.head(1)"
   ]
  },
  {
   "cell_type": "code",
   "execution_count": 203,
   "id": "c18e6723",
   "metadata": {},
   "outputs": [
    {
     "data": {
      "image/png": "[encoded data removed]",
      "text/plain": [
       "<Figure size 720x360 with 1 Axes>"
      ]
     },
     "metadata": {
      "needs_background": "light"
     },
     "output_type": "display_data"
    }
   ],
   "source": [
    "plt.figure(figsize=(10,5))\n",
    "sns.kdeplot('cost',data=zmt, color=\"b\")# KDE plot \n",
    "plt.title(\"Cost of Food (Restaurants)\")\n",
    "plt.show()"
   ]
  },
  {
   "cell_type": "markdown",
   "id": "8db067fc",
   "metadata": {},
   "source": [
    "By observing above kde plot we can say that most of the restaurants have cost between Rs 1 to Rs 1000 for food and remaining have above Rs 1000 for their food."
   ]
  },
  {
   "cell_type": "markdown",
   "id": "f9d6657a",
   "metadata": {},
   "source": [
    "### 4) Find count of restaurants have table boking facility.\n",
    "Here, we can use countplot but try to drow pointplot to see how it looks like."
   ]
  },
  {
   "cell_type": "code",
   "execution_count": 97,
   "id": "73b002c7",
   "metadata": {},
   "outputs": [
    {
     "data": {
      "text/html": [
       "<div>\n",
       "<style scoped>\n",
       "    .dataframe tbody tr th:only-of-type {\n",
       "        vertical-align: middle;\n",
       "    }\n",
       "\n",
       "    .dataframe tbody tr th {\n",
       "        vertical-align: top;\n",
       "    }\n",
       "\n",
       "    .dataframe thead th {\n",
       "        text-align: right;\n",
       "    }\n",
       "</style>\n",
       "<table border=\"1\" class=\"dataframe\">\n",
       "  <thead>\n",
       "    <tr style=\"text-align: right;\">\n",
       "      <th></th>\n",
       "      <th>restaurants</th>\n",
       "      <th>online_order</th>\n",
       "      <th>book_table</th>\n",
       "      <th>rating</th>\n",
       "      <th>votes</th>\n",
       "      <th>location</th>\n",
       "      <th>rest_type</th>\n",
       "      <th>food_type</th>\n",
       "      <th>cost</th>\n",
       "      <th>type</th>\n",
       "      <th>city</th>\n",
       "    </tr>\n",
       "  </thead>\n",
       "  <tbody>\n",
       "    <tr>\n",
       "      <th>0</th>\n",
       "      <td>Jalsa</td>\n",
       "      <td>Yes</td>\n",
       "      <td>Yes</td>\n",
       "      <td>4.1</td>\n",
       "      <td>775</td>\n",
       "      <td>Banashankari</td>\n",
       "      <td>Casual Dining</td>\n",
       "      <td>North Indian, Mughlai, Chinese</td>\n",
       "      <td>800</td>\n",
       "      <td>Buffet</td>\n",
       "      <td>Banashankari</td>\n",
       "    </tr>\n",
       "  </tbody>\n",
       "</table>\n",
       "</div>"
      ],
      "text/plain": [
       "  restaurants online_order book_table  rating  votes      location  \\\n",
       "0       Jalsa          Yes        Yes     4.1    775  Banashankari   \n",
       "\n",
       "       rest_type                       food_type  cost    type          city  \n",
       "0  Casual Dining  North Indian, Mughlai, Chinese   800  Buffet  Banashankari  "
      ]
     },
     "execution_count": 97,
     "metadata": {},
     "output_type": "execute_result"
    }
   ],
   "source": [
    "zmt.head(1)"
   ]
  },
  {
   "cell_type": "code",
   "execution_count": 209,
   "id": "7fd2b4d6",
   "metadata": {},
   "outputs": [
    {
     "data": {
      "image/png": "[encoded data removed]",
      "text/plain": [
       "<Figure size 800x400 with 1 Axes>"
      ]
     },
     "metadata": {
      "needs_background": "light"
     },
     "output_type": "display_data"
    }
   ],
   "source": [
    "plt.figure(figsize=(10,5),dpi=80)\n",
    "table_booking= zmt.groupby('book_table')['restaurants'].count().reset_index()\n",
    "sns.barplot(x='book_table',y='restaurants',data=table_booking ,palette='bright')\n",
    "plt.title('No. of Restaurants (Booking table)')\n",
    "plt.show()"
   ]
  },
  {
   "cell_type": "markdown",
   "id": "9cbfce92",
   "metadata": {},
   "source": [
    "By seeing above pointplot we can say that only 7000 restaurants have table booking facility and 35000+ restaurants don't have facility of table booking."
   ]
  },
  {
   "cell_type": "markdown",
   "id": "f5533ec2",
   "metadata": {},
   "source": [
    "### 5) Find number of restaurant at given location.\n",
    "\n",
    "* BTM\n",
    "* Basavanagudi\n",
    "* West Bangalore\n",
    "* Whitefield\n",
    "* Yeshwantpur"
   ]
  },
  {
   "cell_type": "code",
   "execution_count": 199,
   "id": "e5bc632a",
   "metadata": {},
   "outputs": [
    {
     "data": {
      "image/png": "[encoded data removed]",
      "text/plain": [
       "<Figure size 800x400 with 1 Axes>"
      ]
     },
     "metadata": {
      "needs_background": "light"
     },
     "output_type": "display_data"
    }
   ],
   "source": [
    "df=pd.DataFrame(zmt.groupby('location')['restaurants'].count()).reset_index()\n",
    "\n",
    "# selecting given locations from dataset using isin()\n",
    "criteria=df['location'].isin(['BTM','Basavanagudi','West Bangalore','Whitefield','Yeshwantpur']) \n",
    "plt.figure(figsize=(10,5), dpi=80) \n",
    "sns.barplot(x='location',y='restaurants',data=df[criteria], palette='dark')\n",
    "\n",
    "plt.title(\"No. of Restaurants by Location\")\n",
    "plt.show()"
   ]
  },
  {
   "cell_type": "markdown",
   "id": "bb68aafb",
   "metadata": {},
   "source": [
    "By seeing given plot, we can notice that how many restaurants present are at given locations.\n",
    "\n",
    "Ex:-\n",
    "\n",
    "BTM location has 4000+ restaurants"
   ]
  },
  {
   "cell_type": "markdown",
   "id": "c2e979b1",
   "metadata": {},
   "source": [
    "### 6) Find most famous restaurants chains like Franchise (Rastaurants having more than one branch) in Bangalore.\n",
    "We working on a zomato dataset of bangalore location so we can asume that all locations are belongs to bangalore.\n",
    "\n",
    "* In this problem we need to find restaurant at each location having more than 1 branch and high rating."
   ]
  },
  {
   "cell_type": "code",
   "execution_count": 113,
   "id": "321e179c",
   "metadata": {},
   "outputs": [
    {
     "data": {
      "text/html": [
       "<div>\n",
       "<style scoped>\n",
       "    .dataframe tbody tr th:only-of-type {\n",
       "        vertical-align: middle;\n",
       "    }\n",
       "\n",
       "    .dataframe tbody tr th {\n",
       "        vertical-align: top;\n",
       "    }\n",
       "\n",
       "    .dataframe thead th {\n",
       "        text-align: right;\n",
       "    }\n",
       "</style>\n",
       "<table border=\"1\" class=\"dataframe\">\n",
       "  <thead>\n",
       "    <tr style=\"text-align: right;\">\n",
       "      <th></th>\n",
       "      <th>restaurants</th>\n",
       "      <th>online_order</th>\n",
       "      <th>book_table</th>\n",
       "      <th>rating</th>\n",
       "      <th>votes</th>\n",
       "      <th>location</th>\n",
       "      <th>rest_type</th>\n",
       "      <th>food_type</th>\n",
       "      <th>cost</th>\n",
       "      <th>type</th>\n",
       "      <th>city</th>\n",
       "    </tr>\n",
       "  </thead>\n",
       "  <tbody>\n",
       "    <tr>\n",
       "      <th>0</th>\n",
       "      <td>Jalsa</td>\n",
       "      <td>Yes</td>\n",
       "      <td>Yes</td>\n",
       "      <td>4.1</td>\n",
       "      <td>775</td>\n",
       "      <td>Banashankari</td>\n",
       "      <td>Casual Dining</td>\n",
       "      <td>North Indian, Mughlai, Chinese</td>\n",
       "      <td>800</td>\n",
       "      <td>Buffet</td>\n",
       "      <td>Banashankari</td>\n",
       "    </tr>\n",
       "  </tbody>\n",
       "</table>\n",
       "</div>"
      ],
      "text/plain": [
       "  restaurants online_order book_table  rating  votes      location  \\\n",
       "0       Jalsa          Yes        Yes     4.1    775  Banashankari   \n",
       "\n",
       "       rest_type                       food_type  cost    type          city  \n",
       "0  Casual Dining  North Indian, Mughlai, Chinese   800  Buffet  Banashankari  "
      ]
     },
     "execution_count": 113,
     "metadata": {},
     "output_type": "execute_result"
    }
   ],
   "source": [
    "zmt.head(1)"
   ]
  },
  {
   "cell_type": "code",
   "execution_count": 112,
   "id": "671f64e9",
   "metadata": {},
   "outputs": [
    {
     "data": {
      "text/html": [
       "<div>\n",
       "<style scoped>\n",
       "    .dataframe tbody tr th:only-of-type {\n",
       "        vertical-align: middle;\n",
       "    }\n",
       "\n",
       "    .dataframe tbody tr th {\n",
       "        vertical-align: top;\n",
       "    }\n",
       "\n",
       "    .dataframe thead th {\n",
       "        text-align: right;\n",
       "    }\n",
       "</style>\n",
       "<table border=\"1\" class=\"dataframe\">\n",
       "  <thead>\n",
       "    <tr style=\"text-align: right;\">\n",
       "      <th></th>\n",
       "      <th>location</th>\n",
       "      <th>restaurants</th>\n",
       "      <th>rating</th>\n",
       "      <th>online_order</th>\n",
       "      <th>book_table</th>\n",
       "      <th>votes</th>\n",
       "      <th>rest_type</th>\n",
       "      <th>food_type</th>\n",
       "      <th>cost</th>\n",
       "      <th>type</th>\n",
       "      <th>city</th>\n",
       "    </tr>\n",
       "  </thead>\n",
       "  <tbody>\n",
       "    <tr>\n",
       "      <th>0</th>\n",
       "      <td>BTM</td>\n",
       "      <td>100 C</td>\n",
       "      <td>3.7</td>\n",
       "      <td>3</td>\n",
       "      <td>3</td>\n",
       "      <td>3</td>\n",
       "      <td>3</td>\n",
       "      <td>3</td>\n",
       "      <td>3</td>\n",
       "      <td>3</td>\n",
       "      <td>3</td>\n",
       "    </tr>\n",
       "    <tr>\n",
       "      <th>1</th>\n",
       "      <td>BTM</td>\n",
       "      <td>2nd Home Restaurant</td>\n",
       "      <td>3.7</td>\n",
       "      <td>11</td>\n",
       "      <td>11</td>\n",
       "      <td>11</td>\n",
       "      <td>11</td>\n",
       "      <td>11</td>\n",
       "      <td>11</td>\n",
       "      <td>11</td>\n",
       "      <td>11</td>\n",
       "    </tr>\n",
       "    <tr>\n",
       "      <th>2</th>\n",
       "      <td>BTM</td>\n",
       "      <td>36th Cross Coffee Mane</td>\n",
       "      <td>3.7</td>\n",
       "      <td>1</td>\n",
       "      <td>1</td>\n",
       "      <td>1</td>\n",
       "      <td>1</td>\n",
       "      <td>1</td>\n",
       "      <td>1</td>\n",
       "      <td>1</td>\n",
       "      <td>1</td>\n",
       "    </tr>\n",
       "    <tr>\n",
       "      <th>3</th>\n",
       "      <td>BTM</td>\n",
       "      <td>3B's - Buddies, Bar &amp; Barbecues</td>\n",
       "      <td>4.4</td>\n",
       "      <td>13</td>\n",
       "      <td>13</td>\n",
       "      <td>13</td>\n",
       "      <td>13</td>\n",
       "      <td>13</td>\n",
       "      <td>13</td>\n",
       "      <td>13</td>\n",
       "      <td>13</td>\n",
       "    </tr>\n",
       "    <tr>\n",
       "      <th>4</th>\n",
       "      <td>BTM</td>\n",
       "      <td>A2B - Adyar Ananda Bhavan</td>\n",
       "      <td>3.8</td>\n",
       "      <td>1</td>\n",
       "      <td>1</td>\n",
       "      <td>1</td>\n",
       "      <td>1</td>\n",
       "      <td>1</td>\n",
       "      <td>1</td>\n",
       "      <td>1</td>\n",
       "      <td>1</td>\n",
       "    </tr>\n",
       "    <tr>\n",
       "      <th>...</th>\n",
       "      <td>...</td>\n",
       "      <td>...</td>\n",
       "      <td>...</td>\n",
       "      <td>...</td>\n",
       "      <td>...</td>\n",
       "      <td>...</td>\n",
       "      <td>...</td>\n",
       "      <td>...</td>\n",
       "      <td>...</td>\n",
       "      <td>...</td>\n",
       "      <td>...</td>\n",
       "    </tr>\n",
       "    <tr>\n",
       "      <th>11650</th>\n",
       "      <td>Yeshwantpur</td>\n",
       "      <td>The Cupcake Story</td>\n",
       "      <td>3.5</td>\n",
       "      <td>1</td>\n",
       "      <td>1</td>\n",
       "      <td>1</td>\n",
       "      <td>1</td>\n",
       "      <td>1</td>\n",
       "      <td>1</td>\n",
       "      <td>1</td>\n",
       "      <td>1</td>\n",
       "    </tr>\n",
       "    <tr>\n",
       "      <th>11651</th>\n",
       "      <td>Yeshwantpur</td>\n",
       "      <td>The Duke Of Juices</td>\n",
       "      <td>3.3</td>\n",
       "      <td>1</td>\n",
       "      <td>1</td>\n",
       "      <td>1</td>\n",
       "      <td>1</td>\n",
       "      <td>1</td>\n",
       "      <td>1</td>\n",
       "      <td>1</td>\n",
       "      <td>1</td>\n",
       "    </tr>\n",
       "    <tr>\n",
       "      <th>11652</th>\n",
       "      <td>Yeshwantpur</td>\n",
       "      <td>Tuckinto</td>\n",
       "      <td>3.8</td>\n",
       "      <td>2</td>\n",
       "      <td>2</td>\n",
       "      <td>2</td>\n",
       "      <td>2</td>\n",
       "      <td>2</td>\n",
       "      <td>2</td>\n",
       "      <td>2</td>\n",
       "      <td>2</td>\n",
       "    </tr>\n",
       "    <tr>\n",
       "      <th>11653</th>\n",
       "      <td>Yeshwantpur</td>\n",
       "      <td>Udupi Garden</td>\n",
       "      <td>3.0</td>\n",
       "      <td>2</td>\n",
       "      <td>2</td>\n",
       "      <td>2</td>\n",
       "      <td>2</td>\n",
       "      <td>2</td>\n",
       "      <td>2</td>\n",
       "      <td>2</td>\n",
       "      <td>2</td>\n",
       "    </tr>\n",
       "    <tr>\n",
       "      <th>11654</th>\n",
       "      <td>Yeshwantpur</td>\n",
       "      <td>Zam Zam Kabab House</td>\n",
       "      <td>3.4</td>\n",
       "      <td>2</td>\n",
       "      <td>2</td>\n",
       "      <td>2</td>\n",
       "      <td>2</td>\n",
       "      <td>2</td>\n",
       "      <td>2</td>\n",
       "      <td>2</td>\n",
       "      <td>2</td>\n",
       "    </tr>\n",
       "  </tbody>\n",
       "</table>\n",
       "<p>11655 rows × 11 columns</p>\n",
       "</div>"
      ],
      "text/plain": [
       "          location                      restaurants  rating  online_order  \\\n",
       "0              BTM                            100 C     3.7             3   \n",
       "1              BTM              2nd Home Restaurant     3.7            11   \n",
       "2              BTM           36th Cross Coffee Mane     3.7             1   \n",
       "3              BTM  3B's - Buddies, Bar & Barbecues     4.4            13   \n",
       "4              BTM        A2B - Adyar Ananda Bhavan     3.8             1   \n",
       "...            ...                              ...     ...           ...   \n",
       "11650  Yeshwantpur                The Cupcake Story     3.5             1   \n",
       "11651  Yeshwantpur               The Duke Of Juices     3.3             1   \n",
       "11652  Yeshwantpur                         Tuckinto     3.8             2   \n",
       "11653  Yeshwantpur                     Udupi Garden     3.0             2   \n",
       "11654  Yeshwantpur              Zam Zam Kabab House     3.4             2   \n",
       "\n",
       "       book_table  votes  rest_type  food_type  cost  type  city  \n",
       "0               3      3          3          3     3     3     3  \n",
       "1              11     11         11         11    11    11    11  \n",
       "2               1      1          1          1     1     1     1  \n",
       "3              13     13         13         13    13    13    13  \n",
       "4               1      1          1          1     1     1     1  \n",
       "...           ...    ...        ...        ...   ...   ...   ...  \n",
       "11650           1      1          1          1     1     1     1  \n",
       "11651           1      1          1          1     1     1     1  \n",
       "11652           2      2          2          2     2     2     2  \n",
       "11653           2      2          2          2     2     2     2  \n",
       "11654           2      2          2          2     2     2     2  \n",
       "\n",
       "[11655 rows x 11 columns]"
      ]
     },
     "execution_count": 112,
     "metadata": {},
     "output_type": "execute_result"
    }
   ],
   "source": [
    "# getting location,restraunts and rating and their count of restaurants\n",
    "df1=pd.DataFrame(zmt.groupby(['location','restaurants','rating']).count()).reset_index()\n",
    "df1"
   ]
  },
  {
   "cell_type": "code",
   "execution_count": 121,
   "id": "14d31dd1",
   "metadata": {},
   "outputs": [
    {
     "data": {
      "image/png": "[encoded data removed]",
      "text/plain": [
       "<Figure size 720x504 with 1 Axes>"
      ]
     },
     "metadata": {
      "needs_background": "light"
     },
     "output_type": "display_data"
    }
   ],
   "source": [
    "plt.figure(figsize=(10,7))\n",
    "sns.distplot(df1['cost'], color= \"b\")\n",
    "plt.show()"
   ]
  },
  {
   "cell_type": "markdown",
   "id": "7892eb20",
   "metadata": {},
   "source": [
    "Note that all columns having some count values these are nothing but a count of that restaurant at given location.\n",
    "\n",
    "* We can see some restaurants having 1 count and some having more than 1. \n",
    "\n",
    "* We want that restaurants which having more than 1 count and high rating.\n",
    "\n"
   ]
  },
  {
   "cell_type": "code",
   "execution_count": 122,
   "id": "54e432ba",
   "metadata": {},
   "outputs": [
    {
     "data": {
      "text/html": [
       "<div>\n",
       "<style scoped>\n",
       "    .dataframe tbody tr th:only-of-type {\n",
       "        vertical-align: middle;\n",
       "    }\n",
       "\n",
       "    .dataframe tbody tr th {\n",
       "        vertical-align: top;\n",
       "    }\n",
       "\n",
       "    .dataframe thead th {\n",
       "        text-align: right;\n",
       "    }\n",
       "</style>\n",
       "<table border=\"1\" class=\"dataframe\">\n",
       "  <thead>\n",
       "    <tr style=\"text-align: right;\">\n",
       "      <th></th>\n",
       "      <th>location</th>\n",
       "      <th>restaurants</th>\n",
       "      <th>rating</th>\n",
       "    </tr>\n",
       "  </thead>\n",
       "  <tbody>\n",
       "    <tr>\n",
       "      <th>0</th>\n",
       "      <td>BTM</td>\n",
       "      <td>eat.fit</td>\n",
       "      <td>4.900000</td>\n",
       "    </tr>\n",
       "    <tr>\n",
       "      <th>1</th>\n",
       "      <td>Banashankari</td>\n",
       "      <td>Yo Roll Corner</td>\n",
       "      <td>4.600000</td>\n",
       "    </tr>\n",
       "    <tr>\n",
       "      <th>2</th>\n",
       "      <td>Banaswadi</td>\n",
       "      <td>Zam Zam Restaurant</td>\n",
       "      <td>4.000000</td>\n",
       "    </tr>\n",
       "    <tr>\n",
       "      <th>3</th>\n",
       "      <td>Bannerghatta Road</td>\n",
       "      <td>Zhangs Classic</td>\n",
       "      <td>4.600000</td>\n",
       "    </tr>\n",
       "    <tr>\n",
       "      <th>4</th>\n",
       "      <td>Basavanagudi</td>\n",
       "      <td>Zephyr</td>\n",
       "      <td>4.600000</td>\n",
       "    </tr>\n",
       "    <tr>\n",
       "      <th>...</th>\n",
       "      <td>...</td>\n",
       "      <td>...</td>\n",
       "      <td>...</td>\n",
       "    </tr>\n",
       "    <tr>\n",
       "      <th>84</th>\n",
       "      <td>West Bangalore</td>\n",
       "      <td>Garden City Mobile Biryani</td>\n",
       "      <td>3.702011</td>\n",
       "    </tr>\n",
       "    <tr>\n",
       "      <th>85</th>\n",
       "      <td>Whitefield</td>\n",
       "      <td>nu.tree</td>\n",
       "      <td>4.900000</td>\n",
       "    </tr>\n",
       "    <tr>\n",
       "      <th>86</th>\n",
       "      <td>Wilson Garden</td>\n",
       "      <td>Vijaya Sagar</td>\n",
       "      <td>4.000000</td>\n",
       "    </tr>\n",
       "    <tr>\n",
       "      <th>87</th>\n",
       "      <td>Yelahanka</td>\n",
       "      <td>Prashanth Naati Corner</td>\n",
       "      <td>3.900000</td>\n",
       "    </tr>\n",
       "    <tr>\n",
       "      <th>88</th>\n",
       "      <td>Yeshwantpur</td>\n",
       "      <td>Zam Zam Kabab House</td>\n",
       "      <td>4.200000</td>\n",
       "    </tr>\n",
       "  </tbody>\n",
       "</table>\n",
       "<p>89 rows × 3 columns</p>\n",
       "</div>"
      ],
      "text/plain": [
       "             location                 restaurants    rating\n",
       "0                 BTM                     eat.fit  4.900000\n",
       "1        Banashankari              Yo Roll Corner  4.600000\n",
       "2           Banaswadi          Zam Zam Restaurant  4.000000\n",
       "3   Bannerghatta Road              Zhangs Classic  4.600000\n",
       "4        Basavanagudi                      Zephyr  4.600000\n",
       "..                ...                         ...       ...\n",
       "84     West Bangalore  Garden City Mobile Biryani  3.702011\n",
       "85         Whitefield                     nu.tree  4.900000\n",
       "86      Wilson Garden                Vijaya Sagar  4.000000\n",
       "87          Yelahanka      Prashanth Naati Corner  3.900000\n",
       "88        Yeshwantpur         Zam Zam Kabab House  4.200000\n",
       "\n",
       "[89 rows x 3 columns]"
      ]
     },
     "execution_count": 122,
     "metadata": {},
     "output_type": "execute_result"
    }
   ],
   "source": [
    "chains_restaurants=df1[(df1['book_table']>1)]\n",
    "famous_restaurants=pd.DataFrame(chains_restaurants.groupby('location')['restaurants','rating'].max()).reset_index()\n",
    "famous_restaurants"
   ]
  },
  {
   "cell_type": "markdown",
   "id": "103df7ca",
   "metadata": {},
   "source": [
    "Finally, we got restaurant at each location has more that one branch and highest rating. Total 89 result we got. Let's try to plot only first 5 to get idea."
   ]
  },
  {
   "cell_type": "code",
   "execution_count": 198,
   "id": "73dc9fa9",
   "metadata": {},
   "outputs": [
    {
     "data": {
      "text/plain": [
       "<Figure size 360x216 with 0 Axes>"
      ]
     },
     "metadata": {},
     "output_type": "display_data"
    },
    {
     "data": {
      "image/png": "[encoded data removed]",
      "text/plain": [
       "<Figure size 718.125x576 with 1 Axes>"
      ]
     },
     "metadata": {
      "needs_background": "light"
     },
     "output_type": "display_data"
    }
   ],
   "source": [
    "plt.figure(figsize=(5,3))\n",
    "sns.catplot(x=\"location\", y=\"rating\", hue=\"restaurants\",kind='bar', legend=True ,height=8,data=famous_restaurants.head(5))\n",
    "plt.title(\"Famous Franchise Restaurants by Rating\")\n",
    "plt.show()"
   ]
  },
  {
   "cell_type": "markdown",
   "id": "d19be944",
   "metadata": {},
   "source": [
    "Here we can see that famous restaurant having more that one branch at location and their rating as well.\n",
    "\n",
    "Ex.:\n",
    "\n",
    "* We can say that, at BTM location in bangalore \"eat.fit\" restaurant is a famous restaurant franchise having maximum rating(4.9) compare to other restaurants franchise's at same location.\n",
    "\n",
    "* At Banashankari location in bangalore \"Yo Roll Corner\" restaurant is a famous restaurant franchise having maximum rating(4.6) compare to other restaurants franchise's at same location.\n",
    "\n",
    "* At Banaswadi location in bangalore \"Zam Zam Restaurant\" restaurant is a famous restaurant franchise having maximum rating(4.0) compare to other restaurants franchise's at same location. and so on..."
   ]
  },
  {
   "cell_type": "markdown",
   "id": "58088523",
   "metadata": {},
   "source": [
    "### 7) Find how many voters gives rating for each 'type' and aggregate rating of that 'type'."
   ]
  },
  {
   "cell_type": "code",
   "execution_count": 143,
   "id": "a1ca6f92",
   "metadata": {},
   "outputs": [
    {
     "data": {
      "text/html": [
       "<div>\n",
       "<style scoped>\n",
       "    .dataframe tbody tr th:only-of-type {\n",
       "        vertical-align: middle;\n",
       "    }\n",
       "\n",
       "    .dataframe tbody tr th {\n",
       "        vertical-align: top;\n",
       "    }\n",
       "\n",
       "    .dataframe thead th {\n",
       "        text-align: right;\n",
       "    }\n",
       "</style>\n",
       "<table border=\"1\" class=\"dataframe\">\n",
       "  <thead>\n",
       "    <tr style=\"text-align: right;\">\n",
       "      <th></th>\n",
       "      <th>restaurants</th>\n",
       "      <th>online_order</th>\n",
       "      <th>book_table</th>\n",
       "      <th>rating</th>\n",
       "      <th>votes</th>\n",
       "      <th>location</th>\n",
       "      <th>rest_type</th>\n",
       "      <th>food_type</th>\n",
       "      <th>cost</th>\n",
       "      <th>type</th>\n",
       "      <th>city</th>\n",
       "    </tr>\n",
       "  </thead>\n",
       "  <tbody>\n",
       "    <tr>\n",
       "      <th>0</th>\n",
       "      <td>Jalsa</td>\n",
       "      <td>Yes</td>\n",
       "      <td>Yes</td>\n",
       "      <td>4.1</td>\n",
       "      <td>775</td>\n",
       "      <td>Banashankari</td>\n",
       "      <td>Casual Dining</td>\n",
       "      <td>North Indian, Mughlai, Chinese</td>\n",
       "      <td>800</td>\n",
       "      <td>Buffet</td>\n",
       "      <td>Banashankari</td>\n",
       "    </tr>\n",
       "  </tbody>\n",
       "</table>\n",
       "</div>"
      ],
      "text/plain": [
       "  restaurants online_order book_table  rating  votes      location  \\\n",
       "0       Jalsa          Yes        Yes     4.1    775  Banashankari   \n",
       "\n",
       "       rest_type                       food_type  cost    type          city  \n",
       "0  Casual Dining  North Indian, Mughlai, Chinese   800  Buffet  Banashankari  "
      ]
     },
     "execution_count": 143,
     "metadata": {},
     "output_type": "execute_result"
    }
   ],
   "source": [
    "zmt.head(1)"
   ]
  },
  {
   "cell_type": "code",
   "execution_count": 150,
   "id": "dbd764e2",
   "metadata": {},
   "outputs": [
    {
     "data": {
      "text/plain": [
       "<Figure size 720x360 with 0 Axes>"
      ]
     },
     "metadata": {},
     "output_type": "display_data"
    },
    {
     "data": {
      "image/png": "[encoded data removed]",
      "text/plain": [
       "<Figure size 728.625x648 with 1 Axes>"
      ]
     },
     "metadata": {
      "needs_background": "light"
     },
     "output_type": "display_data"
    }
   ],
   "source": [
    "df2 = zmt.groupby('type').agg({'votes':'sum','rating':'mean'}).nlargest(7,['votes']).reset_index()\n",
    "\n",
    "plt.figure(figsize=(10,5))\n",
    "sns.catplot(x='type',y='rating',hue='votes',kind='bar',height=9, data=df2)\n",
    "\n",
    "plt.title(\"\")\n",
    "plt.show()"
   ]
  },
  {
   "cell_type": "markdown",
   "id": "472b7319",
   "metadata": {},
   "source": [
    "Here we can see that, how many voters gives rating for each type and average rating of that type.\n",
    "\n",
    "Ex:- Most of the voters(Total 5216094 voters) gives rating to the Delivery and its average rating is 3.7 and so on...\n",
    "\n",
    "#### Note:\n",
    "If we see delivery type has low rating but the number of voters is high. So it is ok to have a low rating because If one voter gives a rating to a product at that time we have the possibility that the product has a 5/5 rating. And if the number of voters is increasing then it is possible to get a low rating depending upon how many voters rated that product."
   ]
  },
  {
   "cell_type": "markdown",
   "id": "2c2ba43f",
   "metadata": {},
   "source": [
    "### 8) Gaussian Rest Type(Normal Distribution) of Rating."
   ]
  },
  {
   "cell_type": "code",
   "execution_count": 151,
   "id": "ec2993d1",
   "metadata": {},
   "outputs": [
    {
     "data": {
      "text/html": [
       "<div>\n",
       "<style scoped>\n",
       "    .dataframe tbody tr th:only-of-type {\n",
       "        vertical-align: middle;\n",
       "    }\n",
       "\n",
       "    .dataframe tbody tr th {\n",
       "        vertical-align: top;\n",
       "    }\n",
       "\n",
       "    .dataframe thead th {\n",
       "        text-align: right;\n",
       "    }\n",
       "</style>\n",
       "<table border=\"1\" class=\"dataframe\">\n",
       "  <thead>\n",
       "    <tr style=\"text-align: right;\">\n",
       "      <th></th>\n",
       "      <th>restaurants</th>\n",
       "      <th>online_order</th>\n",
       "      <th>book_table</th>\n",
       "      <th>rating</th>\n",
       "      <th>votes</th>\n",
       "      <th>location</th>\n",
       "      <th>rest_type</th>\n",
       "      <th>food_type</th>\n",
       "      <th>cost</th>\n",
       "      <th>type</th>\n",
       "      <th>city</th>\n",
       "    </tr>\n",
       "  </thead>\n",
       "  <tbody>\n",
       "    <tr>\n",
       "      <th>0</th>\n",
       "      <td>Jalsa</td>\n",
       "      <td>Yes</td>\n",
       "      <td>Yes</td>\n",
       "      <td>4.1</td>\n",
       "      <td>775</td>\n",
       "      <td>Banashankari</td>\n",
       "      <td>Casual Dining</td>\n",
       "      <td>North Indian, Mughlai, Chinese</td>\n",
       "      <td>800</td>\n",
       "      <td>Buffet</td>\n",
       "      <td>Banashankari</td>\n",
       "    </tr>\n",
       "  </tbody>\n",
       "</table>\n",
       "</div>"
      ],
      "text/plain": [
       "  restaurants online_order book_table  rating  votes      location  \\\n",
       "0       Jalsa          Yes        Yes     4.1    775  Banashankari   \n",
       "\n",
       "       rest_type                       food_type  cost    type          city  \n",
       "0  Casual Dining  North Indian, Mughlai, Chinese   800  Buffet  Banashankari  "
      ]
     },
     "execution_count": 151,
     "metadata": {},
     "output_type": "execute_result"
    }
   ],
   "source": [
    "zmt.head(1)"
   ]
  },
  {
   "cell_type": "code",
   "execution_count": 154,
   "id": "40e0dd39",
   "metadata": {},
   "outputs": [
    {
     "data": {
      "image/png": "[encoded data removed]",
      "text/plain": [
       "<Figure size 720x360 with 1 Axes>"
      ]
     },
     "metadata": {
      "needs_background": "light"
     },
     "output_type": "display_data"
    }
   ],
   "source": [
    "plt.figure(figsize=(10,5))\n",
    "sns.distplot(zmt['rating'], color= \"b\")\n",
    "plt.title(\"Normal Distribution (Rating)\")\n",
    "plt.show()"
   ]
  },
  {
   "cell_type": "markdown",
   "id": "5cfeaf84",
   "metadata": {},
   "source": [
    "We got a normal distribution form of our rating and we observe that we have maximum ratings between 3.5 to 4.2"
   ]
  },
  {
   "cell_type": "markdown",
   "id": "77251102",
   "metadata": {},
   "source": [
    "### 9) Find the how many Restaurants havign Chinese and North Indian food in their food type."
   ]
  },
  {
   "cell_type": "code",
   "execution_count": 155,
   "id": "4517b426",
   "metadata": {},
   "outputs": [
    {
     "data": {
      "text/html": [
       "<div>\n",
       "<style scoped>\n",
       "    .dataframe tbody tr th:only-of-type {\n",
       "        vertical-align: middle;\n",
       "    }\n",
       "\n",
       "    .dataframe tbody tr th {\n",
       "        vertical-align: top;\n",
       "    }\n",
       "\n",
       "    .dataframe thead th {\n",
       "        text-align: right;\n",
       "    }\n",
       "</style>\n",
       "<table border=\"1\" class=\"dataframe\">\n",
       "  <thead>\n",
       "    <tr style=\"text-align: right;\">\n",
       "      <th></th>\n",
       "      <th>restaurants</th>\n",
       "      <th>online_order</th>\n",
       "      <th>book_table</th>\n",
       "      <th>rating</th>\n",
       "      <th>votes</th>\n",
       "      <th>location</th>\n",
       "      <th>rest_type</th>\n",
       "      <th>food_type</th>\n",
       "      <th>cost</th>\n",
       "      <th>type</th>\n",
       "      <th>city</th>\n",
       "    </tr>\n",
       "  </thead>\n",
       "  <tbody>\n",
       "    <tr>\n",
       "      <th>0</th>\n",
       "      <td>Jalsa</td>\n",
       "      <td>Yes</td>\n",
       "      <td>Yes</td>\n",
       "      <td>4.1</td>\n",
       "      <td>775</td>\n",
       "      <td>Banashankari</td>\n",
       "      <td>Casual Dining</td>\n",
       "      <td>North Indian, Mughlai, Chinese</td>\n",
       "      <td>800</td>\n",
       "      <td>Buffet</td>\n",
       "      <td>Banashankari</td>\n",
       "    </tr>\n",
       "  </tbody>\n",
       "</table>\n",
       "</div>"
      ],
      "text/plain": [
       "  restaurants online_order book_table  rating  votes      location  \\\n",
       "0       Jalsa          Yes        Yes     4.1    775  Banashankari   \n",
       "\n",
       "       rest_type                       food_type  cost    type          city  \n",
       "0  Casual Dining  North Indian, Mughlai, Chinese   800  Buffet  Banashankari  "
      ]
     },
     "execution_count": 155,
     "metadata": {},
     "output_type": "execute_result"
    }
   ],
   "source": [
    "zmt.head(1)"
   ]
  },
  {
   "cell_type": "code",
   "execution_count": 156,
   "id": "aac578b2",
   "metadata": {},
   "outputs": [],
   "source": [
    "# count of restaurants who serving chinese food.\n",
    "Chinese= len([i for i in zmt['food_type'] if 'Chinese' in i])\n",
    "\n",
    "# count of restaurants who serving North Indian food.\n",
    "North_India= len([i for i in zmt['food_type'] if 'North India' in i]) \n",
    "\n",
    "#creating list\n",
    "Restaurant_count=[Chinese,North_India]\n",
    "Food_Type=['Chinese','North India']\n",
    "\n",
    "#.set_index('Food_Type')# creating dataset of extracted data\n",
    "df3 = pd.DataFrame({'Food_Type':Food_Type,'Restaurant_count':Restaurant_count})"
   ]
  },
  {
   "cell_type": "code",
   "execution_count": 162,
   "id": "c7f420d3",
   "metadata": {},
   "outputs": [
    {
     "data": {
      "image/png": "[encoded data removed]",
      "text/plain": [
       "<Figure size 720x360 with 1 Axes>"
      ]
     },
     "metadata": {
      "needs_background": "light"
     },
     "output_type": "display_data"
    }
   ],
   "source": [
    "plt.figure(figsize=(10,5))\n",
    "\n",
    "sns.barplot(x='Food_Type',y='Restaurant_count',data=df3, palette='winter')\n",
    "plt.title(\"Chinese Food VS North Indian Food\")\n",
    "plt.show()"
   ]
  },
  {
   "cell_type": "markdown",
   "id": "40268cb9",
   "metadata": {},
   "source": [
    "Here, We got actual count of restaurants who serving chinese and North Indian food."
   ]
  },
  {
   "cell_type": "markdown",
   "id": "0a967bfa",
   "metadata": {},
   "source": [
    "### 10) Most famous restaurant chains in Bengaluru(No. of restaurants)"
   ]
  },
  {
   "cell_type": "code",
   "execution_count": 177,
   "id": "d1b4d8da",
   "metadata": {},
   "outputs": [
    {
     "data": {
      "text/html": [
       "<div>\n",
       "<style scoped>\n",
       "    .dataframe tbody tr th:only-of-type {\n",
       "        vertical-align: middle;\n",
       "    }\n",
       "\n",
       "    .dataframe tbody tr th {\n",
       "        vertical-align: top;\n",
       "    }\n",
       "\n",
       "    .dataframe thead th {\n",
       "        text-align: right;\n",
       "    }\n",
       "</style>\n",
       "<table border=\"1\" class=\"dataframe\">\n",
       "  <thead>\n",
       "    <tr style=\"text-align: right;\">\n",
       "      <th></th>\n",
       "      <th>restaurants</th>\n",
       "      <th>online_order</th>\n",
       "      <th>book_table</th>\n",
       "      <th>rating</th>\n",
       "      <th>votes</th>\n",
       "      <th>location</th>\n",
       "      <th>rest_type</th>\n",
       "      <th>food_type</th>\n",
       "      <th>cost</th>\n",
       "      <th>type</th>\n",
       "      <th>city</th>\n",
       "    </tr>\n",
       "  </thead>\n",
       "  <tbody>\n",
       "    <tr>\n",
       "      <th>0</th>\n",
       "      <td>Jalsa</td>\n",
       "      <td>Yes</td>\n",
       "      <td>Yes</td>\n",
       "      <td>4.1</td>\n",
       "      <td>775</td>\n",
       "      <td>Banashankari</td>\n",
       "      <td>Casual Dining</td>\n",
       "      <td>North Indian, Mughlai, Chinese</td>\n",
       "      <td>800</td>\n",
       "      <td>Buffet</td>\n",
       "      <td>Banashankari</td>\n",
       "    </tr>\n",
       "  </tbody>\n",
       "</table>\n",
       "</div>"
      ],
      "text/plain": [
       "  restaurants online_order book_table  rating  votes      location  \\\n",
       "0       Jalsa          Yes        Yes     4.1    775  Banashankari   \n",
       "\n",
       "       rest_type                       food_type  cost    type          city  \n",
       "0  Casual Dining  North Indian, Mughlai, Chinese   800  Buffet  Banashankari  "
      ]
     },
     "execution_count": 177,
     "metadata": {},
     "output_type": "execute_result"
    }
   ],
   "source": [
    "zmt.head(1)"
   ]
  },
  {
   "cell_type": "code",
   "execution_count": 180,
   "id": "541521f7",
   "metadata": {},
   "outputs": [
    {
     "data": {
      "text/html": [
       "<div>\n",
       "<style scoped>\n",
       "    .dataframe tbody tr th:only-of-type {\n",
       "        vertical-align: middle;\n",
       "    }\n",
       "\n",
       "    .dataframe tbody tr th {\n",
       "        vertical-align: top;\n",
       "    }\n",
       "\n",
       "    .dataframe thead th {\n",
       "        text-align: right;\n",
       "    }\n",
       "</style>\n",
       "<table border=\"1\" class=\"dataframe\">\n",
       "  <thead>\n",
       "    <tr style=\"text-align: right;\">\n",
       "      <th></th>\n",
       "      <th>restaurants</th>\n",
       "    </tr>\n",
       "  </thead>\n",
       "  <tbody>\n",
       "    <tr>\n",
       "      <th>Cafe Coffee Day</th>\n",
       "      <td>89</td>\n",
       "    </tr>\n",
       "    <tr>\n",
       "      <th>Onesta</th>\n",
       "      <td>85</td>\n",
       "    </tr>\n",
       "    <tr>\n",
       "      <th>Empire Restaurant</th>\n",
       "      <td>71</td>\n",
       "    </tr>\n",
       "    <tr>\n",
       "      <th>Five Star Chicken</th>\n",
       "      <td>68</td>\n",
       "    </tr>\n",
       "    <tr>\n",
       "      <th>Just Bake</th>\n",
       "      <td>68</td>\n",
       "    </tr>\n",
       "    <tr>\n",
       "      <th>Kanti Sweets</th>\n",
       "      <td>68</td>\n",
       "    </tr>\n",
       "    <tr>\n",
       "      <th>Petoo</th>\n",
       "      <td>64</td>\n",
       "    </tr>\n",
       "    <tr>\n",
       "      <th>Baskin Robbins</th>\n",
       "      <td>63</td>\n",
       "    </tr>\n",
       "    <tr>\n",
       "      <th>Pizza Hut</th>\n",
       "      <td>62</td>\n",
       "    </tr>\n",
       "    <tr>\n",
       "      <th>Polar Bear</th>\n",
       "      <td>61</td>\n",
       "    </tr>\n",
       "  </tbody>\n",
       "</table>\n",
       "</div>"
      ],
      "text/plain": [
       "                   restaurants\n",
       "Cafe Coffee Day             89\n",
       "Onesta                      85\n",
       "Empire Restaurant           71\n",
       "Five Star Chicken           68\n",
       "Just Bake                   68\n",
       "Kanti Sweets                68\n",
       "Petoo                       64\n",
       "Baskin Robbins              63\n",
       "Pizza Hut                   62\n",
       "Polar Bear                  61"
      ]
     },
     "metadata": {},
     "output_type": "display_data"
    },
    {
     "data": {
      "image/png": "[encoded data removed]",
      "text/plain": [
       "<Figure size 855x475 with 1 Axes>"
      ]
     },
     "metadata": {
      "needs_background": "light"
     },
     "output_type": "display_data"
    }
   ],
   "source": [
    "hotels=zmt['restaurants'].value_counts().head(10)\n",
    "plt.figure(figsize=(9,5),dpi=95)\n",
    "sns.barplot(y=hotels.index,x=hotels,orient='h',palette='colorblind')\n",
    "plt.title('Famous restaurant chains in Banglore(No. of restaurants)')\n",
    "display(hotels.to_frame())\n",
    "plt.show()"
   ]
  },
  {
   "cell_type": "markdown",
   "id": "4ad6eb42",
   "metadata": {},
   "source": [
    "Here the graph is according to the famous restaurants in banglore with respect to no of restaurants.\n",
    "\n",
    "Top 3 are:-\n",
    "\n",
    "1. Cafe Coffee Day\n",
    "2. Onesta\n",
    "3. Empire Restaurant"
   ]
  },
  {
   "cell_type": "markdown",
   "id": "f2160b74",
   "metadata": {},
   "source": [
    "### 11) Find the most profitable type of restaurant."
   ]
  },
  {
   "cell_type": "code",
   "execution_count": 169,
   "id": "4eead368",
   "metadata": {},
   "outputs": [
    {
     "data": {
      "text/html": [
       "<div>\n",
       "<style scoped>\n",
       "    .dataframe tbody tr th:only-of-type {\n",
       "        vertical-align: middle;\n",
       "    }\n",
       "\n",
       "    .dataframe tbody tr th {\n",
       "        vertical-align: top;\n",
       "    }\n",
       "\n",
       "    .dataframe thead th {\n",
       "        text-align: right;\n",
       "    }\n",
       "</style>\n",
       "<table border=\"1\" class=\"dataframe\">\n",
       "  <thead>\n",
       "    <tr style=\"text-align: right;\">\n",
       "      <th></th>\n",
       "      <th>restaurants</th>\n",
       "      <th>online_order</th>\n",
       "      <th>book_table</th>\n",
       "      <th>rating</th>\n",
       "      <th>votes</th>\n",
       "      <th>location</th>\n",
       "      <th>rest_type</th>\n",
       "      <th>food_type</th>\n",
       "      <th>cost</th>\n",
       "      <th>type</th>\n",
       "      <th>city</th>\n",
       "    </tr>\n",
       "  </thead>\n",
       "  <tbody>\n",
       "    <tr>\n",
       "      <th>0</th>\n",
       "      <td>Jalsa</td>\n",
       "      <td>Yes</td>\n",
       "      <td>Yes</td>\n",
       "      <td>4.1</td>\n",
       "      <td>775</td>\n",
       "      <td>Banashankari</td>\n",
       "      <td>Casual Dining</td>\n",
       "      <td>North Indian, Mughlai, Chinese</td>\n",
       "      <td>800</td>\n",
       "      <td>Buffet</td>\n",
       "      <td>Banashankari</td>\n",
       "    </tr>\n",
       "  </tbody>\n",
       "</table>\n",
       "</div>"
      ],
      "text/plain": [
       "  restaurants online_order book_table  rating  votes      location  \\\n",
       "0       Jalsa          Yes        Yes     4.1    775  Banashankari   \n",
       "\n",
       "       rest_type                       food_type  cost    type          city  \n",
       "0  Casual Dining  North Indian, Mughlai, Chinese   800  Buffet  Banashankari  "
      ]
     },
     "execution_count": 169,
     "metadata": {},
     "output_type": "execute_result"
    }
   ],
   "source": [
    "zmt.head(1)"
   ]
  },
  {
   "cell_type": "code",
   "execution_count": 193,
   "id": "0f0b9a63",
   "metadata": {},
   "outputs": [
    {
     "data": {
      "image/png": "[encoded data removed]",
      "text/plain": [
       "<Figure size 648x648 with 1 Axes>"
      ]
     },
     "metadata": {},
     "output_type": "display_data"
    }
   ],
   "source": [
    "plt.figure(figsize=(10,5))\n",
    "\n",
    "df4=zmt.groupby('type').agg({'cost':'mean'})\n",
    "df4.cost.plot(kind='pie',autopct='%1.2f%%',figsize=(9,9), shadow=True)\n",
    "\n",
    "plt.title(\"Profit % by Type \")\n",
    "plt.show()"
   ]
  },
  {
   "cell_type": "markdown",
   "id": "f5dafd43",
   "metadata": {},
   "source": [
    "\n",
    "Here, we can see this by looking at the total percentage of the average cost. The restaurant has Drinks and Nightlife facilities at a 23% higher profit than other types."
   ]
  },
  {
   "cell_type": "markdown",
   "id": "b9e2160c",
   "metadata": {},
   "source": [
    "### Summary:-\n",
    "In the process of cleaning the dataset, I used the Pandas and Numpy libraries. Using pandas and NumPy I removed unwanted (useless) data and created new data frames and got useful data for my research. After cleaning my data I used seaborn and Matplotlib libraries to visualize and read my data. I have created questions regarding my research. I have tried to solve them by imagining and applying the conditions."
   ]
  },
  {
   "cell_type": "code",
   "execution_count": null,
   "id": "8c7138af",
   "metadata": {},
   "outputs": [],
   "source": []
  }
 ],
 "metadata": {
  "kernelspec": {
   "display_name": "Python 3 (ipykernel)",
   "language": "python",
   "name": "python3"
  },
  "language_info": {
   "codemirror_mode": {
    "name": "ipython",
    "version": 3
   },
   "file_extension": ".py",
   "mimetype": "text/x-python",
   "name": "python",
   "nbconvert_exporter": "python",
   "pygments_lexer": "ipython3",
   "version": "3.9.7"
  }
 },
 "nbformat": 4,
 "nbformat_minor": 5
}
